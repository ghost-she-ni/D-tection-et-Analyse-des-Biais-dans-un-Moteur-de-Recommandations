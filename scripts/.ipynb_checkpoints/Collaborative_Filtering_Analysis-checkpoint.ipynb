{
 "cells": [
  {
   "cell_type": "markdown",
   "id": "34e2c281",
   "metadata": {},
   "source": [
    "# Collaborative Filtering Analysis"
   ]
  },
  {
   "cell_type": "markdown",
   "id": "1aae7ebd",
   "metadata": {},
   "source": [
    "\n",
    "This notebook contains the implementation and analysis of user-based and item-based collaborative filtering for movie recommendations.\n"
   ]
  },
  {
   "cell_type": "code",
   "execution_count": null,
   "id": "6e7f9b68",
   "metadata": {},
   "outputs": [],
   "source": [
    "\n",
    "import pandas as pd\n",
    "from sklearn.metrics.pairwise import cosine_similarity\n",
    "from sklearn.metrics import mean_squared_error, precision_recall_fscore_support\n",
    "from math import sqrt\n"
   ]
  },
  {
   "cell_type": "markdown",
   "id": "95730ab1",
   "metadata": {},
   "source": [
    "## Load and Inspect Data"
   ]
  },
  {
   "cell_type": "code",
   "execution_count": null,
   "id": "6e5b00d5",
   "metadata": {},
   "outputs": [],
   "source": [
    "\n",
    "# Load datasets\n",
    "ratings = pd.read_csv('cleaned_ratings.csv')\n",
    "users = pd.read_csv('cleaned_users.csv')\n",
    "movies = pd.read_csv('cleaned_movies.csv')\n",
    "\n",
    "# Display dataset information\n",
    "ratings.head(), users.head(), movies.head()\n"
   ]
  },
  {
   "cell_type": "markdown",
   "id": "2181b734",
   "metadata": {},
   "source": [
    "## User-Based Collaborative Filtering"
   ]
  },
  {
   "cell_type": "code",
   "execution_count": null,
   "id": "fc6d03ca",
   "metadata": {},
   "outputs": [],
   "source": [
    "\n",
    "# Create user-movie matrix\n",
    "user_movie_matrix = ratings.pivot(index='user_id', columns='item_id', values='rating').fillna(0)\n",
    "\n",
    "# Calculate cosine similarity between users\n",
    "user_similarity = cosine_similarity(user_movie_matrix)\n",
    "user_similarity_df = pd.DataFrame(user_similarity, index=user_movie_matrix.index, columns=user_movie_matrix.index)\n",
    "\n",
    "# Predict ratings function for user-based filtering\n",
    "def predict_user_rating(user_id, movie_id, user_movie_matrix, user_similarity_df, k=5):\n",
    "    if movie_id not in user_movie_matrix.columns:\n",
    "        return None\n",
    "    user_similarities = user_similarity_df.loc[user_id]\n",
    "    similar_users = user_similarities[user_movie_matrix[movie_id].notna()].nlargest(k+1).iloc[1:]\n",
    "    similar_users_ratings = user_movie_matrix.loc[similar_users.index, movie_id]\n",
    "    weighted_sum = (similar_users_ratings * similar_users).sum()\n",
    "    similarity_sum = similar_users.sum()\n",
    "    return weighted_sum / similarity_sum if similarity_sum != 0 else None\n",
    "\n",
    "# Example: Predict a rating\n",
    "predict_user_rating(1, 2, user_movie_matrix, user_similarity_df)\n"
   ]
  },
  {
   "cell_type": "markdown",
   "id": "5bc3c025",
   "metadata": {},
   "source": [
    "## Item-Based Collaborative Filtering"
   ]
  },
  {
   "cell_type": "code",
   "execution_count": null,
   "id": "2989d42f",
   "metadata": {},
   "outputs": [],
   "source": [
    "\n",
    "# Create item-movie matrix (transpose of user-movie matrix)\n",
    "item_movie_matrix = user_movie_matrix.T\n",
    "\n",
    "# Calculate cosine similarity between items (movies)\n",
    "item_similarity = cosine_similarity(item_movie_matrix)\n",
    "item_similarity_df = pd.DataFrame(item_similarity, index=item_movie_matrix.index, columns=item_movie_matrix.index)\n",
    "\n",
    "# Predict ratings function for item-based filtering\n",
    "def predict_item_rating(user_id, movie_id, user_movie_matrix, item_similarity_df, k=5):\n",
    "    if movie_id not in user_movie_matrix.columns:\n",
    "        return None\n",
    "    user_ratings = user_movie_matrix.loc[user_id]\n",
    "    movie_similarities = item_similarity_df[movie_id]\n",
    "    rated_movies = user_ratings[user_ratings.notna()].index\n",
    "    similar_movies = movie_similarities[rated_movies].nlargest(k)\n",
    "    weighted_sum = (user_ratings[similar_movies.index] * similar_movies).sum()\n",
    "    similarity_sum = similar_movies.sum()\n",
    "    return weighted_sum / similarity_sum if similarity_sum != 0 else None\n",
    "\n",
    "# Example: Predict a rating\n",
    "predict_item_rating(1, 2, user_movie_matrix, item_similarity_df)\n"
   ]
  },
  {
   "cell_type": "markdown",
   "id": "67517ecc",
   "metadata": {},
   "source": [
    "## Evaluation of Collaborative Filtering Models"
   ]
  },
  {
   "cell_type": "code",
   "execution_count": null,
   "id": "6785d38e",
   "metadata": {},
   "outputs": [],
   "source": [
    "\n",
    "# Split the data for evaluation\n",
    "train_data = ratings.sample(frac=0.8, random_state=42)\n",
    "test_data = ratings.drop(train_data.index)\n",
    "\n",
    "# Predict ratings and evaluate with RMSE for user-based filtering\n",
    "test_data['predicted_user_rating'] = test_data.apply(\n",
    "    lambda row: predict_user_rating(row['user_id'], row['item_id'], user_movie_matrix, user_similarity_df) or 0, axis=1\n",
    ")\n",
    "rmse_user = sqrt(mean_squared_error(test_data['rating'], test_data['predicted_user_rating']))\n",
    "rmse_user\n"
   ]
  },
  {
   "cell_type": "code",
   "execution_count": null,
   "id": "18128c60",
   "metadata": {},
   "outputs": [],
   "source": [
    "\n",
    "# Predict ratings and evaluate with RMSE for item-based filtering\n",
    "test_data['predicted_item_rating'] = test_data.apply(\n",
    "    lambda row: predict_item_rating(row['user_id'], row['item_id'], user_movie_matrix, item_similarity_df) or 0, axis=1\n",
    ")\n",
    "rmse_item = sqrt(mean_squared_error(test_data['rating'], test_data['predicted_item_rating']))\n",
    "rmse_item\n"
   ]
  },
  {
   "cell_type": "markdown",
   "id": "323f19f0",
   "metadata": {},
   "source": [
    "## Recommendations with Fallback"
   ]
  },
  {
   "cell_type": "code",
   "execution_count": null,
   "id": "c6ed6857",
   "metadata": {},
   "outputs": [],
   "source": [
    "\n",
    "# Recommend movies with fallback to popular movies if no predictions are available\n",
    "def recommend_movies_with_fallback(user_id, user_movie_matrix, item_similarity_df, movies_df, top_n=10, k=5):\n",
    "    unrated_movies = user_movie_matrix.loc[user_id][user_movie_matrix.loc[user_id].isna()].index\n",
    "    predicted_ratings = {movie_id: predict_item_rating(user_id, movie_id, user_movie_matrix, item_similarity_df, k=k)\n",
    "                         for movie_id in unrated_movies}\n",
    "    predicted_ratings = {movie_id: rating for movie_id, rating in predicted_ratings.items() if rating is not None}\n",
    "    if not predicted_ratings:\n",
    "        popular_movies = user_movie_matrix.sum(axis=0).nlargest(top_n).index\n",
    "        return movies_df[movies_df['movie_id'].isin(popular_movies)][['movie_title']]\n",
    "    sorted_movies = sorted(predicted_ratings.items(), key=lambda x: x[1], reverse=True)[:top_n]\n",
    "    recommended_df = pd.DataFrame(sorted_movies, columns=['movie_id', 'Predicted_Rating'])\n",
    "    return recommended_df.merge(movies_df[['movie_id', 'movie_title']], on='movie_id')[['movie_title', 'Predicted_Rating']]\n",
    "\n",
    "# Example: Generate recommendations for user 1\n",
    "recommend_movies_with_fallback(1, user_movie_matrix, item_similarity_df, movies)\n"
   ]
  }
 ],
 "metadata": {},
 "nbformat": 4,
 "nbformat_minor": 5
}