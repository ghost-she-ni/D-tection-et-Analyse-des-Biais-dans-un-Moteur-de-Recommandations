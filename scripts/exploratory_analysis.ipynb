{
 "cells": [
  {
   "cell_type": "markdown",
   "id": "5bfae6f0-5ed2-4c83-81c5-3d55c28d0f48",
   "metadata": {},
   "source": [
    "# Charger les données"
   ]
  },
  {
   "cell_type": "code",
   "execution_count": 30,
   "id": "997d4bd3-b56b-4c68-b752-48429aff12f6",
   "metadata": {},
   "outputs": [
    {
     "data": {
      "text/html": [
       "<div>\n",
       "<style scoped>\n",
       "    .dataframe tbody tr th:only-of-type {\n",
       "        vertical-align: middle;\n",
       "    }\n",
       "\n",
       "    .dataframe tbody tr th {\n",
       "        vertical-align: top;\n",
       "    }\n",
       "\n",
       "    .dataframe thead th {\n",
       "        text-align: right;\n",
       "    }\n",
       "</style>\n",
       "<table border=\"1\" class=\"dataframe\">\n",
       "  <thead>\n",
       "    <tr style=\"text-align: right;\">\n",
       "      <th></th>\n",
       "      <th>user_id</th>\n",
       "      <th>item_id</th>\n",
       "      <th>rating</th>\n",
       "      <th>timestamp</th>\n",
       "    </tr>\n",
       "  </thead>\n",
       "  <tbody>\n",
       "    <tr>\n",
       "      <th>0</th>\n",
       "      <td>196</td>\n",
       "      <td>242</td>\n",
       "      <td>3</td>\n",
       "      <td>881250949</td>\n",
       "    </tr>\n",
       "    <tr>\n",
       "      <th>1</th>\n",
       "      <td>186</td>\n",
       "      <td>302</td>\n",
       "      <td>3</td>\n",
       "      <td>891717742</td>\n",
       "    </tr>\n",
       "    <tr>\n",
       "      <th>2</th>\n",
       "      <td>22</td>\n",
       "      <td>377</td>\n",
       "      <td>1</td>\n",
       "      <td>878887116</td>\n",
       "    </tr>\n",
       "    <tr>\n",
       "      <th>3</th>\n",
       "      <td>244</td>\n",
       "      <td>51</td>\n",
       "      <td>2</td>\n",
       "      <td>880606923</td>\n",
       "    </tr>\n",
       "    <tr>\n",
       "      <th>4</th>\n",
       "      <td>166</td>\n",
       "      <td>346</td>\n",
       "      <td>1</td>\n",
       "      <td>886397596</td>\n",
       "    </tr>\n",
       "  </tbody>\n",
       "</table>\n",
       "</div>"
      ],
      "text/plain": [
       "   user_id  item_id  rating  timestamp\n",
       "0      196      242       3  881250949\n",
       "1      186      302       3  891717742\n",
       "2       22      377       1  878887116\n",
       "3      244       51       2  880606923\n",
       "4      166      346       1  886397596"
      ]
     },
     "metadata": {},
     "output_type": "display_data"
    },
    {
     "data": {
      "text/html": [
       "<div>\n",
       "<style scoped>\n",
       "    .dataframe tbody tr th:only-of-type {\n",
       "        vertical-align: middle;\n",
       "    }\n",
       "\n",
       "    .dataframe tbody tr th {\n",
       "        vertical-align: top;\n",
       "    }\n",
       "\n",
       "    .dataframe thead th {\n",
       "        text-align: right;\n",
       "    }\n",
       "</style>\n",
       "<table border=\"1\" class=\"dataframe\">\n",
       "  <thead>\n",
       "    <tr style=\"text-align: right;\">\n",
       "      <th></th>\n",
       "      <th>movie_id</th>\n",
       "      <th>movie_title</th>\n",
       "      <th>release_date</th>\n",
       "      <th>video_release_date</th>\n",
       "      <th>imdb_url</th>\n",
       "      <th>unknown</th>\n",
       "      <th>Action</th>\n",
       "      <th>Adventure</th>\n",
       "      <th>Animation</th>\n",
       "      <th>Children's</th>\n",
       "      <th>...</th>\n",
       "      <th>Fantasy</th>\n",
       "      <th>Film-Noir</th>\n",
       "      <th>Horror</th>\n",
       "      <th>Musical</th>\n",
       "      <th>Mystery</th>\n",
       "      <th>Romance</th>\n",
       "      <th>Sci-Fi</th>\n",
       "      <th>Thriller</th>\n",
       "      <th>War</th>\n",
       "      <th>Western</th>\n",
       "    </tr>\n",
       "  </thead>\n",
       "  <tbody>\n",
       "    <tr>\n",
       "      <th>0</th>\n",
       "      <td>1</td>\n",
       "      <td>Toy Story (1995)</td>\n",
       "      <td>01-Jan-1995</td>\n",
       "      <td>NaN</td>\n",
       "      <td>http://us.imdb.com/M/title-exact?Toy%20Story%2...</td>\n",
       "      <td>0</td>\n",
       "      <td>0</td>\n",
       "      <td>0</td>\n",
       "      <td>1</td>\n",
       "      <td>1</td>\n",
       "      <td>...</td>\n",
       "      <td>0</td>\n",
       "      <td>0</td>\n",
       "      <td>0</td>\n",
       "      <td>0</td>\n",
       "      <td>0</td>\n",
       "      <td>0</td>\n",
       "      <td>0</td>\n",
       "      <td>0</td>\n",
       "      <td>0</td>\n",
       "      <td>0</td>\n",
       "    </tr>\n",
       "    <tr>\n",
       "      <th>1</th>\n",
       "      <td>2</td>\n",
       "      <td>GoldenEye (1995)</td>\n",
       "      <td>01-Jan-1995</td>\n",
       "      <td>NaN</td>\n",
       "      <td>http://us.imdb.com/M/title-exact?GoldenEye%20(...</td>\n",
       "      <td>0</td>\n",
       "      <td>1</td>\n",
       "      <td>1</td>\n",
       "      <td>0</td>\n",
       "      <td>0</td>\n",
       "      <td>...</td>\n",
       "      <td>0</td>\n",
       "      <td>0</td>\n",
       "      <td>0</td>\n",
       "      <td>0</td>\n",
       "      <td>0</td>\n",
       "      <td>0</td>\n",
       "      <td>0</td>\n",
       "      <td>1</td>\n",
       "      <td>0</td>\n",
       "      <td>0</td>\n",
       "    </tr>\n",
       "    <tr>\n",
       "      <th>2</th>\n",
       "      <td>3</td>\n",
       "      <td>Four Rooms (1995)</td>\n",
       "      <td>01-Jan-1995</td>\n",
       "      <td>NaN</td>\n",
       "      <td>http://us.imdb.com/M/title-exact?Four%20Rooms%...</td>\n",
       "      <td>0</td>\n",
       "      <td>0</td>\n",
       "      <td>0</td>\n",
       "      <td>0</td>\n",
       "      <td>0</td>\n",
       "      <td>...</td>\n",
       "      <td>0</td>\n",
       "      <td>0</td>\n",
       "      <td>0</td>\n",
       "      <td>0</td>\n",
       "      <td>0</td>\n",
       "      <td>0</td>\n",
       "      <td>0</td>\n",
       "      <td>1</td>\n",
       "      <td>0</td>\n",
       "      <td>0</td>\n",
       "    </tr>\n",
       "    <tr>\n",
       "      <th>3</th>\n",
       "      <td>4</td>\n",
       "      <td>Get Shorty (1995)</td>\n",
       "      <td>01-Jan-1995</td>\n",
       "      <td>NaN</td>\n",
       "      <td>http://us.imdb.com/M/title-exact?Get%20Shorty%...</td>\n",
       "      <td>0</td>\n",
       "      <td>1</td>\n",
       "      <td>0</td>\n",
       "      <td>0</td>\n",
       "      <td>0</td>\n",
       "      <td>...</td>\n",
       "      <td>0</td>\n",
       "      <td>0</td>\n",
       "      <td>0</td>\n",
       "      <td>0</td>\n",
       "      <td>0</td>\n",
       "      <td>0</td>\n",
       "      <td>0</td>\n",
       "      <td>0</td>\n",
       "      <td>0</td>\n",
       "      <td>0</td>\n",
       "    </tr>\n",
       "    <tr>\n",
       "      <th>4</th>\n",
       "      <td>5</td>\n",
       "      <td>Copycat (1995)</td>\n",
       "      <td>01-Jan-1995</td>\n",
       "      <td>NaN</td>\n",
       "      <td>http://us.imdb.com/M/title-exact?Copycat%20(1995)</td>\n",
       "      <td>0</td>\n",
       "      <td>0</td>\n",
       "      <td>0</td>\n",
       "      <td>0</td>\n",
       "      <td>0</td>\n",
       "      <td>...</td>\n",
       "      <td>0</td>\n",
       "      <td>0</td>\n",
       "      <td>0</td>\n",
       "      <td>0</td>\n",
       "      <td>0</td>\n",
       "      <td>0</td>\n",
       "      <td>0</td>\n",
       "      <td>1</td>\n",
       "      <td>0</td>\n",
       "      <td>0</td>\n",
       "    </tr>\n",
       "  </tbody>\n",
       "</table>\n",
       "<p>5 rows × 24 columns</p>\n",
       "</div>"
      ],
      "text/plain": [
       "   movie_id        movie_title release_date  video_release_date  \\\n",
       "0         1   Toy Story (1995)  01-Jan-1995                 NaN   \n",
       "1         2   GoldenEye (1995)  01-Jan-1995                 NaN   \n",
       "2         3  Four Rooms (1995)  01-Jan-1995                 NaN   \n",
       "3         4  Get Shorty (1995)  01-Jan-1995                 NaN   \n",
       "4         5     Copycat (1995)  01-Jan-1995                 NaN   \n",
       "\n",
       "                                            imdb_url  unknown  Action  \\\n",
       "0  http://us.imdb.com/M/title-exact?Toy%20Story%2...        0       0   \n",
       "1  http://us.imdb.com/M/title-exact?GoldenEye%20(...        0       1   \n",
       "2  http://us.imdb.com/M/title-exact?Four%20Rooms%...        0       0   \n",
       "3  http://us.imdb.com/M/title-exact?Get%20Shorty%...        0       1   \n",
       "4  http://us.imdb.com/M/title-exact?Copycat%20(1995)        0       0   \n",
       "\n",
       "   Adventure  Animation  Children's  ...  Fantasy  Film-Noir  Horror  Musical  \\\n",
       "0          0          1           1  ...        0          0       0        0   \n",
       "1          1          0           0  ...        0          0       0        0   \n",
       "2          0          0           0  ...        0          0       0        0   \n",
       "3          0          0           0  ...        0          0       0        0   \n",
       "4          0          0           0  ...        0          0       0        0   \n",
       "\n",
       "   Mystery  Romance  Sci-Fi  Thriller  War  Western  \n",
       "0        0        0       0         0    0        0  \n",
       "1        0        0       0         1    0        0  \n",
       "2        0        0       0         1    0        0  \n",
       "3        0        0       0         0    0        0  \n",
       "4        0        0       0         1    0        0  \n",
       "\n",
       "[5 rows x 24 columns]"
      ]
     },
     "metadata": {},
     "output_type": "display_data"
    },
    {
     "data": {
      "text/html": [
       "<div>\n",
       "<style scoped>\n",
       "    .dataframe tbody tr th:only-of-type {\n",
       "        vertical-align: middle;\n",
       "    }\n",
       "\n",
       "    .dataframe tbody tr th {\n",
       "        vertical-align: top;\n",
       "    }\n",
       "\n",
       "    .dataframe thead th {\n",
       "        text-align: right;\n",
       "    }\n",
       "</style>\n",
       "<table border=\"1\" class=\"dataframe\">\n",
       "  <thead>\n",
       "    <tr style=\"text-align: right;\">\n",
       "      <th></th>\n",
       "      <th>user_id</th>\n",
       "      <th>age</th>\n",
       "      <th>gender</th>\n",
       "      <th>occupation</th>\n",
       "      <th>zip_code</th>\n",
       "    </tr>\n",
       "  </thead>\n",
       "  <tbody>\n",
       "    <tr>\n",
       "      <th>0</th>\n",
       "      <td>1</td>\n",
       "      <td>24</td>\n",
       "      <td>M</td>\n",
       "      <td>technician</td>\n",
       "      <td>85711</td>\n",
       "    </tr>\n",
       "    <tr>\n",
       "      <th>1</th>\n",
       "      <td>2</td>\n",
       "      <td>53</td>\n",
       "      <td>F</td>\n",
       "      <td>other</td>\n",
       "      <td>94043</td>\n",
       "    </tr>\n",
       "    <tr>\n",
       "      <th>2</th>\n",
       "      <td>3</td>\n",
       "      <td>23</td>\n",
       "      <td>M</td>\n",
       "      <td>writer</td>\n",
       "      <td>32067</td>\n",
       "    </tr>\n",
       "    <tr>\n",
       "      <th>3</th>\n",
       "      <td>4</td>\n",
       "      <td>24</td>\n",
       "      <td>M</td>\n",
       "      <td>technician</td>\n",
       "      <td>43537</td>\n",
       "    </tr>\n",
       "    <tr>\n",
       "      <th>4</th>\n",
       "      <td>5</td>\n",
       "      <td>33</td>\n",
       "      <td>F</td>\n",
       "      <td>other</td>\n",
       "      <td>15213</td>\n",
       "    </tr>\n",
       "  </tbody>\n",
       "</table>\n",
       "</div>"
      ],
      "text/plain": [
       "   user_id  age gender  occupation zip_code\n",
       "0        1   24      M  technician    85711\n",
       "1        2   53      F       other    94043\n",
       "2        3   23      M      writer    32067\n",
       "3        4   24      M  technician    43537\n",
       "4        5   33      F       other    15213"
      ]
     },
     "metadata": {},
     "output_type": "display_data"
    }
   ],
   "source": [
    "import pandas as pd\n",
    "\n",
    "# Charger les fichiers\n",
    "ratings = pd.read_csv(\"../data/ml-100k/ml-100k/u.data\", sep=\"\\t\", names=[\"user_id\", \"item_id\", \"rating\", \"timestamp\"])\n",
    "movies = pd.read_csv(\"../data/ml-100k/ml-100k/u.item\", sep=\"|\", encoding=\"latin-1\", names=[\"movie_id\", \"movie_title\", \"release_date\", \"video_release_date\", \"imdb_url\", \"unknown\", \"Action\", \"Adventure\", \"Animation\", \"Children's\", \"Comedy\", \"Crime\", \n",
    "    \"Documentary\", \"Drama\", \"Fantasy\", \"Film-Noir\", \"Horror\", \"Musical\", \"Mystery\", \"Romance\", \"Sci-Fi\", \"Thriller\", \"War\", \"Western\"])\n",
    "users = pd.read_csv(\"../data/ml-100k/ml-100k/u.user\", sep=\"|\", names=[\"user_id\", \"age\", \"gender\", \"occupation\", \"zip_code\"])\n",
    "\n",
    "# Afficher les premières lignes\n",
    "display(ratings.head())\n",
    "display(movies.head())\n",
    "display(users.head())\n"
   ]
  },
  {
   "cell_type": "markdown",
   "id": "bd6839dc-08b4-4f81-9043-fd7441512ef6",
   "metadata": {},
   "source": [
    "# Vérifier les dimensions et types des données"
   ]
  },
  {
   "cell_type": "markdown",
   "id": "b8d002d5-aee8-40aa-87ce-fc25db1cd873",
   "metadata": {},
   "source": [
    "# Nettoyage des données"
   ]
  },
  {
   "cell_type": "code",
   "execution_count": 31,
   "id": "d1bba5f3-890e-437b-8209-e7086526eaa5",
   "metadata": {},
   "outputs": [],
   "source": [
    "# Supprimer les colonnes inutiles\n",
    "movies.drop(columns=[\"video_release_date\"], inplace=True)\n",
    "\n",
    "# Supprime ou impute les valeurs manquantes\n",
    "movies.dropna(subset=[\"release_date\", \"imdb_url\"], inplace=True)"
   ]
  },
  {
   "cell_type": "code",
   "execution_count": 32,
   "id": "199181b7-f954-4d94-8ce3-fe538133e045",
   "metadata": {},
   "outputs": [
    {
     "name": "stdout",
     "output_type": "stream",
     "text": [
      "Valeurs manquantes dans ratings :\n",
      "user_id      0\n",
      "item_id      0\n",
      "rating       0\n",
      "timestamp    0\n",
      "dtype: int64\n",
      "\n",
      "Valeurs manquantes dans movies :\n",
      "movie_id        0\n",
      "movie_title     0\n",
      "release_date    0\n",
      "imdb_url        0\n",
      "unknown         0\n",
      "Action          0\n",
      "Adventure       0\n",
      "Animation       0\n",
      "Children's      0\n",
      "Comedy          0\n",
      "Crime           0\n",
      "Documentary     0\n",
      "Drama           0\n",
      "Fantasy         0\n",
      "Film-Noir       0\n",
      "Horror          0\n",
      "Musical         0\n",
      "Mystery         0\n",
      "Romance         0\n",
      "Sci-Fi          0\n",
      "Thriller        0\n",
      "War             0\n",
      "Western         0\n",
      "dtype: int64\n",
      "\n",
      "Valeurs manquantes dans users :\n",
      "user_id       0\n",
      "age           0\n",
      "gender        0\n",
      "occupation    0\n",
      "zip_code      0\n",
      "dtype: int64\n"
     ]
    }
   ],
   "source": [
    "# Vérifie si des colonnes contiennent des valeurs manquantes\n",
    "print(\"Valeurs manquantes dans ratings :\")\n",
    "print(ratings.isnull().sum())\n",
    "\n",
    "print(\"\\nValeurs manquantes dans movies :\")\n",
    "print(movies.isnull().sum())\n",
    "\n",
    "print(\"\\nValeurs manquantes dans users :\")\n",
    "print(users.isnull().sum())"
   ]
  },
  {
   "cell_type": "code",
   "execution_count": 33,
   "id": "e34a788b-e5a0-408a-a936-64252245b06a",
   "metadata": {},
   "outputs": [],
   "source": [
    "# Convertir les timestamps en format datetime pour une analyse temporelle éventuelle\n",
    "ratings[\"timestamp\"] = pd.to_datetime(ratings[\"timestamp\"], unit=\"s\")\n",
    "\n",
    "# Extraire l’année des dates de sortie des films pour simplifier l’analyse\n",
    "movies[\"release_year\"] = movies[\"release_date\"].str.extract(r\"(\\d{4})\").astype(float)"
   ]
  },
  {
   "cell_type": "code",
   "execution_count": 34,
   "id": "707cd6e2-fea6-4f15-83c9-ba357e109857",
   "metadata": {},
   "outputs": [
    {
     "name": "stdout",
     "output_type": "stream",
     "text": [
      "<class 'pandas.core.frame.DataFrame'>\n",
      "RangeIndex: 100000 entries, 0 to 99999\n",
      "Data columns (total 4 columns):\n",
      " #   Column     Non-Null Count   Dtype         \n",
      "---  ------     --------------   -----         \n",
      " 0   user_id    100000 non-null  int64         \n",
      " 1   item_id    100000 non-null  int64         \n",
      " 2   rating     100000 non-null  int64         \n",
      " 3   timestamp  100000 non-null  datetime64[ns]\n",
      "dtypes: datetime64[ns](1), int64(3)\n",
      "memory usage: 3.1 MB\n",
      "None\n",
      "<class 'pandas.core.frame.DataFrame'>\n",
      "Index: 1679 entries, 0 to 1681\n",
      "Data columns (total 24 columns):\n",
      " #   Column        Non-Null Count  Dtype  \n",
      "---  ------        --------------  -----  \n",
      " 0   movie_id      1679 non-null   int64  \n",
      " 1   movie_title   1679 non-null   object \n",
      " 2   release_date  1679 non-null   object \n",
      " 3   imdb_url      1679 non-null   object \n",
      " 4   unknown       1679 non-null   int64  \n",
      " 5   Action        1679 non-null   int64  \n",
      " 6   Adventure     1679 non-null   int64  \n",
      " 7   Animation     1679 non-null   int64  \n",
      " 8   Children's    1679 non-null   int64  \n",
      " 9   Comedy        1679 non-null   int64  \n",
      " 10  Crime         1679 non-null   int64  \n",
      " 11  Documentary   1679 non-null   int64  \n",
      " 12  Drama         1679 non-null   int64  \n",
      " 13  Fantasy       1679 non-null   int64  \n",
      " 14  Film-Noir     1679 non-null   int64  \n",
      " 15  Horror        1679 non-null   int64  \n",
      " 16  Musical       1679 non-null   int64  \n",
      " 17  Mystery       1679 non-null   int64  \n",
      " 18  Romance       1679 non-null   int64  \n",
      " 19  Sci-Fi        1679 non-null   int64  \n",
      " 20  Thriller      1679 non-null   int64  \n",
      " 21  War           1679 non-null   int64  \n",
      " 22  Western       1679 non-null   int64  \n",
      " 23  release_year  1679 non-null   float64\n",
      "dtypes: float64(1), int64(20), object(3)\n",
      "memory usage: 327.9+ KB\n",
      "None\n",
      "<class 'pandas.core.frame.DataFrame'>\n",
      "RangeIndex: 943 entries, 0 to 942\n",
      "Data columns (total 5 columns):\n",
      " #   Column      Non-Null Count  Dtype \n",
      "---  ------      --------------  ----- \n",
      " 0   user_id     943 non-null    int64 \n",
      " 1   age         943 non-null    int64 \n",
      " 2   gender      943 non-null    object\n",
      " 3   occupation  943 non-null    object\n",
      " 4   zip_code    943 non-null    object\n",
      "dtypes: int64(2), object(3)\n",
      "memory usage: 37.0+ KB\n",
      "None\n"
     ]
    },
    {
     "data": {
      "text/html": [
       "<div>\n",
       "<style scoped>\n",
       "    .dataframe tbody tr th:only-of-type {\n",
       "        vertical-align: middle;\n",
       "    }\n",
       "\n",
       "    .dataframe tbody tr th {\n",
       "        vertical-align: top;\n",
       "    }\n",
       "\n",
       "    .dataframe thead th {\n",
       "        text-align: right;\n",
       "    }\n",
       "</style>\n",
       "<table border=\"1\" class=\"dataframe\">\n",
       "  <thead>\n",
       "    <tr style=\"text-align: right;\">\n",
       "      <th></th>\n",
       "      <th>user_id</th>\n",
       "      <th>item_id</th>\n",
       "      <th>rating</th>\n",
       "      <th>timestamp</th>\n",
       "    </tr>\n",
       "  </thead>\n",
       "  <tbody>\n",
       "    <tr>\n",
       "      <th>0</th>\n",
       "      <td>196</td>\n",
       "      <td>242</td>\n",
       "      <td>3</td>\n",
       "      <td>1997-12-04 15:55:49</td>\n",
       "    </tr>\n",
       "    <tr>\n",
       "      <th>1</th>\n",
       "      <td>186</td>\n",
       "      <td>302</td>\n",
       "      <td>3</td>\n",
       "      <td>1998-04-04 19:22:22</td>\n",
       "    </tr>\n",
       "    <tr>\n",
       "      <th>2</th>\n",
       "      <td>22</td>\n",
       "      <td>377</td>\n",
       "      <td>1</td>\n",
       "      <td>1997-11-07 07:18:36</td>\n",
       "    </tr>\n",
       "    <tr>\n",
       "      <th>3</th>\n",
       "      <td>244</td>\n",
       "      <td>51</td>\n",
       "      <td>2</td>\n",
       "      <td>1997-11-27 05:02:03</td>\n",
       "    </tr>\n",
       "    <tr>\n",
       "      <th>4</th>\n",
       "      <td>166</td>\n",
       "      <td>346</td>\n",
       "      <td>1</td>\n",
       "      <td>1998-02-02 05:33:16</td>\n",
       "    </tr>\n",
       "  </tbody>\n",
       "</table>\n",
       "</div>"
      ],
      "text/plain": [
       "   user_id  item_id  rating           timestamp\n",
       "0      196      242       3 1997-12-04 15:55:49\n",
       "1      186      302       3 1998-04-04 19:22:22\n",
       "2       22      377       1 1997-11-07 07:18:36\n",
       "3      244       51       2 1997-11-27 05:02:03\n",
       "4      166      346       1 1998-02-02 05:33:16"
      ]
     },
     "metadata": {},
     "output_type": "display_data"
    },
    {
     "data": {
      "text/html": [
       "<div>\n",
       "<style scoped>\n",
       "    .dataframe tbody tr th:only-of-type {\n",
       "        vertical-align: middle;\n",
       "    }\n",
       "\n",
       "    .dataframe tbody tr th {\n",
       "        vertical-align: top;\n",
       "    }\n",
       "\n",
       "    .dataframe thead th {\n",
       "        text-align: right;\n",
       "    }\n",
       "</style>\n",
       "<table border=\"1\" class=\"dataframe\">\n",
       "  <thead>\n",
       "    <tr style=\"text-align: right;\">\n",
       "      <th></th>\n",
       "      <th>movie_id</th>\n",
       "      <th>movie_title</th>\n",
       "      <th>release_date</th>\n",
       "      <th>imdb_url</th>\n",
       "      <th>unknown</th>\n",
       "      <th>Action</th>\n",
       "      <th>Adventure</th>\n",
       "      <th>Animation</th>\n",
       "      <th>Children's</th>\n",
       "      <th>Comedy</th>\n",
       "      <th>...</th>\n",
       "      <th>Film-Noir</th>\n",
       "      <th>Horror</th>\n",
       "      <th>Musical</th>\n",
       "      <th>Mystery</th>\n",
       "      <th>Romance</th>\n",
       "      <th>Sci-Fi</th>\n",
       "      <th>Thriller</th>\n",
       "      <th>War</th>\n",
       "      <th>Western</th>\n",
       "      <th>release_year</th>\n",
       "    </tr>\n",
       "  </thead>\n",
       "  <tbody>\n",
       "    <tr>\n",
       "      <th>0</th>\n",
       "      <td>1</td>\n",
       "      <td>Toy Story (1995)</td>\n",
       "      <td>01-Jan-1995</td>\n",
       "      <td>http://us.imdb.com/M/title-exact?Toy%20Story%2...</td>\n",
       "      <td>0</td>\n",
       "      <td>0</td>\n",
       "      <td>0</td>\n",
       "      <td>1</td>\n",
       "      <td>1</td>\n",
       "      <td>1</td>\n",
       "      <td>...</td>\n",
       "      <td>0</td>\n",
       "      <td>0</td>\n",
       "      <td>0</td>\n",
       "      <td>0</td>\n",
       "      <td>0</td>\n",
       "      <td>0</td>\n",
       "      <td>0</td>\n",
       "      <td>0</td>\n",
       "      <td>0</td>\n",
       "      <td>1995.0</td>\n",
       "    </tr>\n",
       "    <tr>\n",
       "      <th>1</th>\n",
       "      <td>2</td>\n",
       "      <td>GoldenEye (1995)</td>\n",
       "      <td>01-Jan-1995</td>\n",
       "      <td>http://us.imdb.com/M/title-exact?GoldenEye%20(...</td>\n",
       "      <td>0</td>\n",
       "      <td>1</td>\n",
       "      <td>1</td>\n",
       "      <td>0</td>\n",
       "      <td>0</td>\n",
       "      <td>0</td>\n",
       "      <td>...</td>\n",
       "      <td>0</td>\n",
       "      <td>0</td>\n",
       "      <td>0</td>\n",
       "      <td>0</td>\n",
       "      <td>0</td>\n",
       "      <td>0</td>\n",
       "      <td>1</td>\n",
       "      <td>0</td>\n",
       "      <td>0</td>\n",
       "      <td>1995.0</td>\n",
       "    </tr>\n",
       "    <tr>\n",
       "      <th>2</th>\n",
       "      <td>3</td>\n",
       "      <td>Four Rooms (1995)</td>\n",
       "      <td>01-Jan-1995</td>\n",
       "      <td>http://us.imdb.com/M/title-exact?Four%20Rooms%...</td>\n",
       "      <td>0</td>\n",
       "      <td>0</td>\n",
       "      <td>0</td>\n",
       "      <td>0</td>\n",
       "      <td>0</td>\n",
       "      <td>0</td>\n",
       "      <td>...</td>\n",
       "      <td>0</td>\n",
       "      <td>0</td>\n",
       "      <td>0</td>\n",
       "      <td>0</td>\n",
       "      <td>0</td>\n",
       "      <td>0</td>\n",
       "      <td>1</td>\n",
       "      <td>0</td>\n",
       "      <td>0</td>\n",
       "      <td>1995.0</td>\n",
       "    </tr>\n",
       "    <tr>\n",
       "      <th>3</th>\n",
       "      <td>4</td>\n",
       "      <td>Get Shorty (1995)</td>\n",
       "      <td>01-Jan-1995</td>\n",
       "      <td>http://us.imdb.com/M/title-exact?Get%20Shorty%...</td>\n",
       "      <td>0</td>\n",
       "      <td>1</td>\n",
       "      <td>0</td>\n",
       "      <td>0</td>\n",
       "      <td>0</td>\n",
       "      <td>1</td>\n",
       "      <td>...</td>\n",
       "      <td>0</td>\n",
       "      <td>0</td>\n",
       "      <td>0</td>\n",
       "      <td>0</td>\n",
       "      <td>0</td>\n",
       "      <td>0</td>\n",
       "      <td>0</td>\n",
       "      <td>0</td>\n",
       "      <td>0</td>\n",
       "      <td>1995.0</td>\n",
       "    </tr>\n",
       "    <tr>\n",
       "      <th>4</th>\n",
       "      <td>5</td>\n",
       "      <td>Copycat (1995)</td>\n",
       "      <td>01-Jan-1995</td>\n",
       "      <td>http://us.imdb.com/M/title-exact?Copycat%20(1995)</td>\n",
       "      <td>0</td>\n",
       "      <td>0</td>\n",
       "      <td>0</td>\n",
       "      <td>0</td>\n",
       "      <td>0</td>\n",
       "      <td>0</td>\n",
       "      <td>...</td>\n",
       "      <td>0</td>\n",
       "      <td>0</td>\n",
       "      <td>0</td>\n",
       "      <td>0</td>\n",
       "      <td>0</td>\n",
       "      <td>0</td>\n",
       "      <td>1</td>\n",
       "      <td>0</td>\n",
       "      <td>0</td>\n",
       "      <td>1995.0</td>\n",
       "    </tr>\n",
       "  </tbody>\n",
       "</table>\n",
       "<p>5 rows × 24 columns</p>\n",
       "</div>"
      ],
      "text/plain": [
       "   movie_id        movie_title release_date  \\\n",
       "0         1   Toy Story (1995)  01-Jan-1995   \n",
       "1         2   GoldenEye (1995)  01-Jan-1995   \n",
       "2         3  Four Rooms (1995)  01-Jan-1995   \n",
       "3         4  Get Shorty (1995)  01-Jan-1995   \n",
       "4         5     Copycat (1995)  01-Jan-1995   \n",
       "\n",
       "                                            imdb_url  unknown  Action  \\\n",
       "0  http://us.imdb.com/M/title-exact?Toy%20Story%2...        0       0   \n",
       "1  http://us.imdb.com/M/title-exact?GoldenEye%20(...        0       1   \n",
       "2  http://us.imdb.com/M/title-exact?Four%20Rooms%...        0       0   \n",
       "3  http://us.imdb.com/M/title-exact?Get%20Shorty%...        0       1   \n",
       "4  http://us.imdb.com/M/title-exact?Copycat%20(1995)        0       0   \n",
       "\n",
       "   Adventure  Animation  Children's  Comedy  ...  Film-Noir  Horror  Musical  \\\n",
       "0          0          1           1       1  ...          0       0        0   \n",
       "1          1          0           0       0  ...          0       0        0   \n",
       "2          0          0           0       0  ...          0       0        0   \n",
       "3          0          0           0       1  ...          0       0        0   \n",
       "4          0          0           0       0  ...          0       0        0   \n",
       "\n",
       "   Mystery  Romance  Sci-Fi  Thriller  War  Western  release_year  \n",
       "0        0        0       0         0    0        0        1995.0  \n",
       "1        0        0       0         1    0        0        1995.0  \n",
       "2        0        0       0         1    0        0        1995.0  \n",
       "3        0        0       0         0    0        0        1995.0  \n",
       "4        0        0       0         1    0        0        1995.0  \n",
       "\n",
       "[5 rows x 24 columns]"
      ]
     },
     "metadata": {},
     "output_type": "display_data"
    },
    {
     "data": {
      "text/html": [
       "<div>\n",
       "<style scoped>\n",
       "    .dataframe tbody tr th:only-of-type {\n",
       "        vertical-align: middle;\n",
       "    }\n",
       "\n",
       "    .dataframe tbody tr th {\n",
       "        vertical-align: top;\n",
       "    }\n",
       "\n",
       "    .dataframe thead th {\n",
       "        text-align: right;\n",
       "    }\n",
       "</style>\n",
       "<table border=\"1\" class=\"dataframe\">\n",
       "  <thead>\n",
       "    <tr style=\"text-align: right;\">\n",
       "      <th></th>\n",
       "      <th>user_id</th>\n",
       "      <th>age</th>\n",
       "      <th>gender</th>\n",
       "      <th>occupation</th>\n",
       "      <th>zip_code</th>\n",
       "    </tr>\n",
       "  </thead>\n",
       "  <tbody>\n",
       "    <tr>\n",
       "      <th>0</th>\n",
       "      <td>1</td>\n",
       "      <td>24</td>\n",
       "      <td>M</td>\n",
       "      <td>technician</td>\n",
       "      <td>85711</td>\n",
       "    </tr>\n",
       "    <tr>\n",
       "      <th>1</th>\n",
       "      <td>2</td>\n",
       "      <td>53</td>\n",
       "      <td>F</td>\n",
       "      <td>other</td>\n",
       "      <td>94043</td>\n",
       "    </tr>\n",
       "    <tr>\n",
       "      <th>2</th>\n",
       "      <td>3</td>\n",
       "      <td>23</td>\n",
       "      <td>M</td>\n",
       "      <td>writer</td>\n",
       "      <td>32067</td>\n",
       "    </tr>\n",
       "    <tr>\n",
       "      <th>3</th>\n",
       "      <td>4</td>\n",
       "      <td>24</td>\n",
       "      <td>M</td>\n",
       "      <td>technician</td>\n",
       "      <td>43537</td>\n",
       "    </tr>\n",
       "    <tr>\n",
       "      <th>4</th>\n",
       "      <td>5</td>\n",
       "      <td>33</td>\n",
       "      <td>F</td>\n",
       "      <td>other</td>\n",
       "      <td>15213</td>\n",
       "    </tr>\n",
       "  </tbody>\n",
       "</table>\n",
       "</div>"
      ],
      "text/plain": [
       "   user_id  age gender  occupation zip_code\n",
       "0        1   24      M  technician    85711\n",
       "1        2   53      F       other    94043\n",
       "2        3   23      M      writer    32067\n",
       "3        4   24      M  technician    43537\n",
       "4        5   33      F       other    15213"
      ]
     },
     "metadata": {},
     "output_type": "display_data"
    }
   ],
   "source": [
    "# Vérifier les données\n",
    "print(ratings.info())\n",
    "print(movies.info())\n",
    "print(users.info())\n",
    "\n",
    "display(ratings.head())\n",
    "display(movies.head())\n",
    "display(users.head())"
   ]
  },
  {
   "cell_type": "markdown",
   "id": "fab20b26-e018-49b4-b551-3ba7695a24ca",
   "metadata": {},
   "source": [
    "# Vérification de cohérence"
   ]
  },
  {
   "cell_type": "markdown",
   "id": "7a0c2e75-d285-4a67-a0e7-c7476c918347",
   "metadata": {},
   "source": [
    "## 1. Vérifier les clés entre les tables"
   ]
  },
  {
   "cell_type": "markdown",
   "id": "eed3e058-f4d9-4f91-9654-2e4540cecfea",
   "metadata": {},
   "source": [
    "Les tables ratings, movies, et users doivent être reliées correctement via leurs clés primaires/étrangères :"
   ]
  },
  {
   "cell_type": "markdown",
   "id": "31833e3c-4872-4837-a276-3aa3dee67105",
   "metadata": {},
   "source": [
    "Films référencés dans les évaluations (ratings) doivent exister dans la liste des films (movies) :"
   ]
  },
  {
   "cell_type": "code",
   "execution_count": 35,
   "id": "d6346548-4584-4d61-ba1a-e9dcb3291d06",
   "metadata": {},
   "outputs": [
    {
     "name": "stdout",
     "output_type": "stream",
     "text": [
      "Films manquants dans movies : {267, 1358, 1359}\n"
     ]
    }
   ],
   "source": [
    "missing_movies = set(ratings[\"item_id\"]) - set(movies[\"movie_id\"])\n",
    "print(f\"Films manquants dans movies : {missing_movies}\")"
   ]
  },
  {
   "cell_type": "markdown",
   "id": "372fbfac-8254-4fcf-a8b6-bd67932ec41f",
   "metadata": {},
   "source": [
    "Utilisateurs référencés dans les évaluations (ratings) doivent exister dans la table des utilisateurs (users) :"
   ]
  },
  {
   "cell_type": "code",
   "execution_count": 36,
   "id": "2f0181e7-737c-41dd-84ea-492a0f72bc0e",
   "metadata": {},
   "outputs": [
    {
     "name": "stdout",
     "output_type": "stream",
     "text": [
      "Utilisateurs manquants dans users : set()\n"
     ]
    }
   ],
   "source": [
    "missing_users = set(ratings[\"user_id\"]) - set(users[\"user_id\"])\n",
    "print(f\"Utilisateurs manquants dans users : {missing_users}\")"
   ]
  },
  {
   "cell_type": "code",
   "execution_count": 37,
   "id": "1e6e5e0e-9d5f-4743-98a1-f409ae95d08e",
   "metadata": {},
   "outputs": [
    {
     "name": "stdout",
     "output_type": "stream",
     "text": [
      "Évaluations pour les films manquants :\n",
      "       user_id  item_id  rating           timestamp\n",
      "2172       130      267       5 1997-10-02 14:07:19\n",
      "3781         5      267       4 1997-09-30 15:57:44\n",
      "7245       268      267       3 1997-10-01 21:41:17\n",
      "12475      297      267       3 1997-09-28 01:12:19\n",
      "14756      319      267       4 1997-10-01 12:08:10\n",
      "15292        1      267       4 1997-10-01 08:02:35\n",
      "26077      181     1359       1 1997-11-08 04:10:00\n",
      "36931      405     1359       1 1998-01-23 10:03:10\n",
      "37163      288     1358       5 1998-02-07 22:57:21\n",
      "49295      532      267       3 1997-09-28 10:09:08\n",
      "93523      833      267       1 1997-09-30 21:41:09\n",
      "93843      181     1358       1 1997-11-08 04:08:40\n",
      "99723      422      267       4 1997-09-30 21:46:26\n"
     ]
    }
   ],
   "source": [
    "missing_movies_ratings = ratings[ratings[\"item_id\"].isin([267, 1358, 1359])]\n",
    "print(f\"Évaluations pour les films manquants :\\n{missing_movies_ratings}\")"
   ]
  },
  {
   "cell_type": "markdown",
   "id": "c3e021ed-a5a1-4ebb-9546-8c6945792585",
   "metadata": {},
   "source": [
    "Supprimer les évaluations des films manquants"
   ]
  },
  {
   "cell_type": "code",
   "execution_count": 38,
   "id": "e80674a0-69b1-48ae-893d-5db3899295c6",
   "metadata": {},
   "outputs": [],
   "source": [
    "ratings = ratings[~ratings[\"item_id\"].isin([267, 1358, 1359])]"
   ]
  },
  {
   "cell_type": "code",
   "execution_count": 39,
   "id": "c6d4a85a-6013-477d-9485-ce6dc6be718f",
   "metadata": {},
   "outputs": [
    {
     "name": "stdout",
     "output_type": "stream",
     "text": [
      "set()\n"
     ]
    }
   ],
   "source": [
    "print(set(ratings[\"item_id\"]) - set(movies[\"movie_id\"])) "
   ]
  },
  {
   "cell_type": "markdown",
   "id": "28164405-7f89-4d04-974d-bfabe6b4c823",
   "metadata": {},
   "source": [
    "## 2. Statistiques descriptives"
   ]
  },
  {
   "cell_type": "code",
   "execution_count": 40,
   "id": "8c07484a-cb44-4ce5-9191-dc51e69d53b3",
   "metadata": {},
   "outputs": [
    {
     "name": "stdout",
     "output_type": "stream",
     "text": [
      "            user_id       item_id        rating                      timestamp\n",
      "count  99987.000000  99987.000000  99987.000000                          99987\n",
      "mean     462.506256    425.507076      3.529929  1997-12-31 00:53:19.261343744\n",
      "min        1.000000      1.000000      1.000000            1997-09-20 03:05:10\n",
      "25%      254.000000    175.000000      3.000000            1997-11-13 19:19:19\n",
      "50%      447.000000    322.000000      4.000000            1997-12-22 21:43:03\n",
      "75%      682.000000    631.000000      4.000000            1998-02-23 18:53:04\n",
      "max      943.000000   1682.000000      5.000000            1998-04-22 23:10:38\n",
      "std      266.613847    330.763806      1.125606                            NaN\n",
      "          movie_id      unknown       Action    Adventure    Animation  \\\n",
      "count  1679.000000  1679.000000  1679.000000  1679.000000  1679.000000   \n",
      "mean    841.226325     0.000596     0.148898     0.080405     0.025015   \n",
      "std     485.599531     0.024405     0.356094     0.272000     0.156217   \n",
      "min       1.000000     0.000000     0.000000     0.000000     0.000000   \n",
      "25%     421.500000     0.000000     0.000000     0.000000     0.000000   \n",
      "50%     841.000000     0.000000     0.000000     0.000000     0.000000   \n",
      "75%    1260.500000     0.000000     0.000000     0.000000     0.000000   \n",
      "max    1682.000000     1.000000     1.000000     1.000000     1.000000   \n",
      "\n",
      "        Children's       Comedy        Crime  Documentary        Drama  ...  \\\n",
      "count  1679.000000  1679.000000  1679.000000  1679.000000  1679.000000  ...   \n",
      "mean      0.072662     0.300774     0.064920     0.029780     0.431209  ...   \n",
      "std       0.259659     0.458731     0.246457     0.170029     0.495393  ...   \n",
      "min       0.000000     0.000000     0.000000     0.000000     0.000000  ...   \n",
      "25%       0.000000     0.000000     0.000000     0.000000     0.000000  ...   \n",
      "50%       0.000000     0.000000     0.000000     0.000000     0.000000  ...   \n",
      "75%       0.000000     1.000000     0.000000     0.000000     1.000000  ...   \n",
      "max       1.000000     1.000000     1.000000     1.000000     1.000000  ...   \n",
      "\n",
      "         Film-Noir       Horror      Musical      Mystery      Romance  \\\n",
      "count  1679.000000  1679.000000  1679.000000  1679.000000  1679.000000   \n",
      "mean      0.014294     0.054795     0.033353     0.036331     0.147111   \n",
      "std       0.118736     0.227647     0.179611     0.187169     0.354322   \n",
      "min       0.000000     0.000000     0.000000     0.000000     0.000000   \n",
      "25%       0.000000     0.000000     0.000000     0.000000     0.000000   \n",
      "50%       0.000000     0.000000     0.000000     0.000000     0.000000   \n",
      "75%       0.000000     0.000000     0.000000     0.000000     0.000000   \n",
      "max       1.000000     1.000000     1.000000     1.000000     1.000000   \n",
      "\n",
      "            Sci-Fi     Thriller          War      Western  release_year  \n",
      "count  1679.000000  1679.000000  1679.000000  1679.000000   1679.000000  \n",
      "mean      0.060155     0.149494     0.042287     0.016081   1989.378201  \n",
      "std       0.237844     0.356681     0.201303     0.125825     14.260242  \n",
      "min       0.000000     0.000000     0.000000     0.000000   1922.000000  \n",
      "25%       0.000000     0.000000     0.000000     0.000000   1993.000000  \n",
      "50%       0.000000     0.000000     0.000000     0.000000   1995.000000  \n",
      "75%       0.000000     0.000000     0.000000     0.000000   1996.000000  \n",
      "max       1.000000     1.000000     1.000000     1.000000   1998.000000  \n",
      "\n",
      "[8 rows x 21 columns]\n",
      "          user_id         age\n",
      "count  943.000000  943.000000\n",
      "mean   472.000000   34.051962\n",
      "std    272.364951   12.192740\n",
      "min      1.000000    7.000000\n",
      "25%    236.500000   25.000000\n",
      "50%    472.000000   31.000000\n",
      "75%    707.500000   43.000000\n",
      "max    943.000000   73.000000\n"
     ]
    }
   ],
   "source": [
    "print(ratings.describe())\n",
    "print(movies.describe())\n",
    "print(users.describe())"
   ]
  },
  {
   "cell_type": "markdown",
   "id": "5076e769-c228-49f6-be08-614db6bc7ec6",
   "metadata": {},
   "source": [
    "## 3. Analyse des doublons"
   ]
  },
  {
   "cell_type": "code",
   "execution_count": 41,
   "id": "1e2d0a9e-3ccc-48fa-9e09-b707c13c904f",
   "metadata": {},
   "outputs": [
    {
     "name": "stdout",
     "output_type": "stream",
     "text": [
      "Nombre de doublons dans ratings : 0\n"
     ]
    }
   ],
   "source": [
    "duplicate_ratings = ratings.duplicated()\n",
    "print(f\"Nombre de doublons dans ratings : {duplicate_ratings.sum()}\")"
   ]
  },
  {
   "cell_type": "markdown",
   "id": "e05c619a-9593-4782-bae9-8d8d38a73e14",
   "metadata": {},
   "source": [
    "# Analyse exploratoire des données"
   ]
  },
  {
   "cell_type": "markdown",
   "id": "433ab4fe-a132-4005-bd26-d38461a6b1d4",
   "metadata": {},
   "source": [
    "### 1. Distribution des évaluations"
   ]
  },
  {
   "cell_type": "markdown",
   "id": "9504d68f-cb36-406a-8b58-256db6ff090a",
   "metadata": {},
   "source": [
    "Analyse combien de fois chaque note (1 à 5) a été donnée."
   ]
  },
  {
   "cell_type": "code",
   "execution_count": 42,
   "id": "b9102496-68f6-49ca-af49-748d51425b39",
   "metadata": {},
   "outputs": [
    {
     "name": "stderr",
     "output_type": "stream",
     "text": [
      "C:\\Users\\nicol\\AppData\\Local\\Temp\\ipykernel_59308\\1430868796.py:4: FutureWarning: \n",
      "\n",
      "Passing `palette` without assigning `hue` is deprecated and will be removed in v0.14.0. Assign the `x` variable to `hue` and set `legend=False` for the same effect.\n",
      "\n",
      "  sns.countplot(x=\"rating\", data=ratings, palette=\"muted\")\n"
     ]
    },
    {
     "data": {
      "image/png": "[encoded data removed]",
      "text/plain": [
       "<Figure size 640x480 with 1 Axes>"
      ]
     },
     "metadata": {},
     "output_type": "display_data"
    }
   ],
   "source": [
    "import seaborn as sns\n",
    "import matplotlib.pyplot as plt\n",
    "\n",
    "sns.countplot(x=\"rating\", data=ratings, palette=\"muted\")\n",
    "plt.title(\"Distribution des évaluations\")\n",
    "plt.xlabel(\"Évaluation\")\n",
    "plt.ylabel(\"Nombre d'occurrences\")\n",
    "plt.show()"
   ]
  },
  {
   "cell_type": "markdown",
   "id": "7834f9f5-af34-48d4-bced-ce808f5aaf1b",
   "metadata": {},
   "source": [
    "### Contexte\n",
    "Ce graphique montre la répartition des notes attribuées par les utilisateurs aux films dans le dataset. Chaque barre représente le nombre d'occurrences pour chaque note possible (de 1 à 5).\n",
    "\n",
    "### Observation\n",
    "- La note \"4\" est la plus fréquente, suivie de \"3\" et \"5\".\n",
    "- Les notes les plus basses, \"1\" et \"2\", sont beaucoup moins courantes.\n",
    "- Cela montre une tendance des utilisateurs à attribuer des notes positives aux films.\n",
    "\n",
    "### Conclusion\n",
    "- Cette distribution indique un biais potentiel vers des notes plus élevées, ce qui peut influencer les recommandations en favorisant les films bien notés.\n",
    "- Ce biais devra être pris en compte lors de l’analyse des biais dans le moteur de recommandations.\n"
   ]
  },
  {
   "cell_type": "markdown",
   "id": "2863fa93-584c-4397-ada8-e4c6b6e584ad",
   "metadata": {},
   "source": [
    "### 2. Distribution des évaluations par utilisateur"
   ]
  },
  {
   "cell_type": "markdown",
   "id": "44c702e0-8329-4bce-ae16-20bb4491768b",
   "metadata": {},
   "source": [
    "Analyse combien de films chaque utilisateur a évalué."
   ]
  },
  {
   "cell_type": "code",
   "execution_count": 43,
   "id": "23b9b4d6-2d40-4fa9-a53d-e495701e57b0",
   "metadata": {},
   "outputs": [
    {
     "data": {
      "image/png": "[encoded data removed]",
      "text/plain": [
       "<Figure size 640x480 with 1 Axes>"
      ]
     },
     "metadata": {},
     "output_type": "display_data"
    }
   ],
   "source": [
    "user_movie_counts = ratings.groupby(\"user_id\")[\"item_id\"].count()\n",
    "\n",
    "sns.histplot(user_movie_counts, kde=False, bins=20, color=\"blue\")\n",
    "plt.title(\"Distribution du nombre de films évalués par utilisateur\")\n",
    "plt.xlabel(\"Nombre de films évalués\")\n",
    "plt.ylabel(\"Nombre d'utilisateurs\")\n",
    "plt.show()"
   ]
  },
  {
   "cell_type": "markdown",
   "id": "7ddf92fb-d93e-4fef-b654-ba5e20615c46",
   "metadata": {},
   "source": [
    "### Contexte\n",
    "Ce graphique illustre combien de films chaque utilisateur a évalués. Cela nous aide à comprendre le comportement des utilisateurs dans le dataset.\n",
    "\n",
    "### Observation\n",
    "- La majorité des utilisateurs ont évalué moins de 100 films.\n",
    "- Quelques utilisateurs ont évalué un nombre exceptionnellement élevé de films (plus de 500), mais ces cas sont rares.\n",
    "\n",
    "### Conclusion\n",
    "- Les utilisateurs qui évaluent beaucoup de films peuvent avoir une influence disproportionnée sur le moteur de recommandations.\n",
    "- Les utilisateurs ayant peu d'évaluations pourraient bénéficier d'approches comme le \"cold-start problem\" pour améliorer leurs recommandations.\n"
   ]
  },
  {
   "cell_type": "markdown",
   "id": "551d3fc8-64b1-40a7-af87-d3681f69b68c",
   "metadata": {},
   "source": [
    "### 3. Distribution des évaluations par film"
   ]
  },
  {
   "cell_type": "markdown",
   "id": "e57bc2a6-3ef7-412f-958a-85f1c370da43",
   "metadata": {},
   "source": [
    "Analyse combien d’évaluations chaque film a reçu."
   ]
  },
  {
   "cell_type": "code",
   "execution_count": 44,
   "id": "026542ff-7794-4ca4-9f38-1857ea2b12a4",
   "metadata": {},
   "outputs": [
    {
     "data": {
      "image/png": "[encoded data removed]",
      "text/plain": [
       "<Figure size 640x480 with 1 Axes>"
      ]
     },
     "metadata": {},
     "output_type": "display_data"
    }
   ],
   "source": [
    "movie_rating_counts = ratings.groupby(\"item_id\")[\"user_id\"].count()\n",
    "\n",
    "sns.histplot(movie_rating_counts, kde=False, bins=20, color=\"green\")\n",
    "plt.title(\"Distribution du nombre d'évaluations par film\")\n",
    "plt.xlabel(\"Nombre d'évaluations\")\n",
    "plt.ylabel(\"Nombre de films\")\n",
    "plt.show()"
   ]
  },
  {
   "cell_type": "markdown",
   "id": "223a9fb6-3818-4fbb-94ff-0bb8dcd2208d",
   "metadata": {},
   "source": [
    "### Contexte\n",
    "Ce graphique montre combien d'évaluations chaque film a reçues. Il permet d’identifier les films populaires et ceux qui ont été peu évalués.\n",
    "\n",
    "### Observation\n",
    "- La majorité des films ont reçu très peu d'évaluations (moins de 100).\n",
    "- Un petit groupe de films a reçu un nombre exceptionnellement élevé d'évaluations (plus de 400).\n",
    "\n",
    "### Conclusion\n",
    "- Les films très populaires (souvent bien notés) risquent d'être sur-représentés dans les recommandations.\n",
    "- Il est important d’équilibrer la représentation des films pour éviter que seuls les films populaires soient recommandés.\n"
   ]
  },
  {
   "cell_type": "code",
   "execution_count": 46,
   "id": "dc9f34ad-f744-4b16-8169-2b6817712938",
   "metadata": {},
   "outputs": [
    {
     "name": "stdout",
     "output_type": "stream",
     "text": [
      "Films les plus évalués :\n",
      "item_id\n",
      "50     583\n",
      "258    509\n",
      "100    508\n",
      "181    507\n",
      "294    485\n",
      "286    481\n",
      "288    478\n",
      "1      452\n",
      "300    431\n",
      "121    429\n",
      "Name: user_id, dtype: int64\n"
     ]
    }
   ],
   "source": [
    "top_movies = movie_rating_counts.sort_values(ascending=False).head(10)\n",
    "print(\"Films les plus évalués :\")\n",
    "print(top_movies)"
   ]
  },
  {
   "cell_type": "markdown",
   "id": "5e0f589b-6b61-4330-bc9a-08701dbb5877",
   "metadata": {},
   "source": [
    "### Contexte\n",
    "Ces films ont reçu le plus grand nombre d’évaluations. Ils sont probablement populaires ou bien connus.\n",
    "\n",
    "### Observation\n",
    "- Les films comme \"Star Wars (1977)\" et \"Shawshank Redemption, The (1994)\" dominent les évaluations.\n",
    "- Ces films auront probablement une forte présence dans les recommandations basées sur la popularité.\n",
    "\n",
    "### Conclusion\n",
    "- Les films populaires doivent être pondérés dans le moteur de recommandations pour éviter qu’ils éclipsent d'autres suggestions moins évaluées.\n"
   ]
  },
  {
   "cell_type": "markdown",
   "id": "c54fa04c-109a-456a-a6c6-890cf36d0440",
   "metadata": {},
   "source": [
    "### 4. Notes moyennes par film"
   ]
  },
  {
   "cell_type": "markdown",
   "id": "3248badc-d5ed-4458-b8cd-ae27df136533",
   "metadata": {},
   "source": [
    "Identifie les films les mieux notés (par au moins un certain nombre d’utilisateurs, pour éviter les biais) :"
   ]
  },
  {
   "cell_type": "code",
   "execution_count": 47,
   "id": "4b85e9c3-89c0-4d57-9d79-ec9232fe648e",
   "metadata": {},
   "outputs": [
    {
     "name": "stdout",
     "output_type": "stream",
     "text": [
      "Films les mieux notés :\n",
      "movie_title\n",
      "Close Shave, A (1995)                                     4.491071\n",
      "Schindler's List (1993)                                   4.466443\n",
      "Wrong Trousers, The (1993)                                4.466102\n",
      "Casablanca (1942)                                         4.456790\n",
      "Wallace & Gromit: The Best of Aardman Animation (1996)    4.447761\n",
      "Shawshank Redemption, The (1994)                          4.445230\n",
      "Rear Window (1954)                                        4.387560\n",
      "Usual Suspects, The (1995)                                4.385768\n",
      "Star Wars (1977)                                          4.358491\n",
      "12 Angry Men (1957)                                       4.344000\n",
      "Name: rating, dtype: float64\n"
     ]
    }
   ],
   "source": [
    "merged = ratings.merge(movies, left_on=\"item_id\", right_on=\"movie_id\")\n",
    "average_ratings = merged.groupby(\"movie_title\").filter(lambda x: len(x) > 20).groupby(\"movie_title\")[\"rating\"].mean().sort_values(ascending=False)\n",
    "\n",
    "print(\"Films les mieux notés :\")\n",
    "print(average_ratings.head(10))"
   ]
  },
  {
   "cell_type": "markdown",
   "id": "921cee9a-89b4-4eac-b073-29a646a8d875",
   "metadata": {},
   "source": [
    "### Contexte\n",
    "Ces films ont obtenu les meilleures moyennes de notes parmi les utilisateurs.\n",
    "\n",
    "### Observation\n",
    "- Les films comme \"Close Shave, A (1995)\" et \"Schindler's List (1993)\" se distinguent par des moyennes de notes élevées.\n",
    "- Ces films sont généralement bien acceptés et pourraient être de bons candidats pour des recommandations universelles.\n",
    "\n",
    "### Conclusion\n",
    "- Ces films sont bien perçus globalement et pourraient constituer un point de départ pour les utilisateurs ayant peu d’historique d’évaluations."
   ]
  },
  {
   "cell_type": "markdown",
   "id": "a9a5b345-159a-40ec-8b5e-14e8a0ccdc9b",
   "metadata": {},
   "source": [
    "### 5. Répartition des films par genre"
   ]
  },
  {
   "cell_type": "markdown",
   "id": "f7033d0d-9336-4797-8122-627179a5c921",
   "metadata": {},
   "source": [
    "Regarde combien de films appartiennent à chaque genre :"
   ]
  },
  {
   "cell_type": "code",
   "execution_count": 49,
   "id": "5191cd8e-45de-430d-ab5e-2f953d65ac89",
   "metadata": {},
   "outputs": [
    {
     "data": {
      "image/png": "[encoded data removed]",
      "text/plain": [
       "<Figure size 640x480 with 1 Axes>"
      ]
     },
     "metadata": {},
     "output_type": "display_data"
    }
   ],
   "source": [
    "genre_columns = [col for col in movies.columns if col in [\n",
    "    \"Action\", \"Adventure\", \"Animation\", \"Children's\", \"Comedy\",\n",
    "    \"Crime\", \"Documentary\", \"Drama\", \"Fantasy\", \"Film-Noir\",\n",
    "    \"Horror\", \"Musical\", \"Mystery\", \"Romance\", \"Sci-Fi\", \"Thriller\",\n",
    "    \"War\", \"Western\"\n",
    "]]\n",
    "genre_counts = movies[genre_columns].sum().sort_values(ascending=False)\n",
    "\n",
    "genre_counts.plot(kind=\"bar\")\n",
    "plt.title(\"Répartition des genres\")\n",
    "plt.xlabel(\"Genre\")\n",
    "plt.ylabel(\"Nombre de films\")\n",
    "plt.show()"
   ]
  },
  {
   "cell_type": "markdown",
   "id": "92b943bb-167c-471f-9e41-ddf8455ad531",
   "metadata": {},
   "source": [
    "### Contexte\n",
    "Ce graphique montre la répartition des genres parmi les films dans le dataset. Chaque barre correspond au nombre de films appartenant à un genre donné.\n",
    "\n",
    "### Observation\n",
    "- Les genres les plus fréquents sont \"Drama\", \"Comedy\" et \"Thriller\".\n",
    "- Certains genres comme \"Film-Noir\" et \"Fantasy\" sont beaucoup moins représentés.\n",
    "\n",
    "### Conclusion\n",
    "- Les genres les plus fréquents auront probablement plus d’évaluations, ce qui pourrait biaiser les recommandations.\n",
    "- Les genres sous-représentés pourraient nécessiter des ajustements spécifiques pour s’assurer qu’ils apparaissent dans les suggestions.\n"
   ]
  },
  {
   "cell_type": "markdown",
   "id": "8f1552fe-48f0-4e6a-a947-d962d09794cf",
   "metadata": {},
   "source": [
    "### 6. Distribution des âges des utilisateurs"
   ]
  },
  {
   "cell_type": "markdown",
   "id": "f5113f9a-fbcf-450e-b2c7-737f29b243aa",
   "metadata": {},
   "source": [
    "Visualise l'âge des utilisateurs :"
   ]
  },
  {
   "cell_type": "code",
   "execution_count": 53,
   "id": "ad934c96-e2c3-4931-95a5-623ead831b93",
   "metadata": {},
   "outputs": [
    {
     "data": {
      "image/png": "[encoded data removed]",
      "text/plain": [
       "<Figure size 640x480 with 1 Axes>"
      ]
     },
     "metadata": {},
     "output_type": "display_data"
    }
   ],
   "source": [
    "sns.histplot(users[\"age\"], kde=True, bins=20)\n",
    "plt.title(\"Distribution des âges des utilisateurs\")\n",
    "plt.xlabel(\"Âge\")\n",
    "plt.ylabel(\"Nombre d'utilisateurs\")\n",
    "plt.show()"
   ]
  },
  {
   "cell_type": "markdown",
   "id": "fca9c4e1-ea17-456e-9310-d35e07f33301",
   "metadata": {},
   "source": [
    "### Contexte\n",
    "Ce graphique montre la répartition des âges des utilisateurs. Cela permet de mieux comprendre le profil démographique des évaluateurs.\n",
    "\n",
    "### Observation\n",
    "- La majorité des utilisateurs ont entre 20 et 40 ans, avec un pic autour de 30 ans.\n",
    "- Les âges extrêmes (moins de 20 ans ou plus de 60 ans) sont beaucoup moins fréquents.\n",
    "\n",
    "### Conclusion\n",
    "- Les recommandations pourraient être biaisées en faveur des préférences des tranches d’âge dominantes.\n",
    "- Une attention particulière pourrait être portée aux utilisateurs âgés ou très jeunes pour s’assurer que leurs intérêts sont pris en compte.\n"
   ]
  },
  {
   "cell_type": "markdown",
   "id": "35ce594d-041b-4388-a205-914719e5a7d3",
   "metadata": {},
   "source": [
    "### 7. Répartition des notes par genre d'utilisateur"
   ]
  },
  {
   "cell_type": "markdown",
   "id": "24f05452-caf0-4cdc-a4bc-b4f11c1a67ea",
   "metadata": {},
   "source": [
    "Analyse si le genre des utilisateurs influence les notes attribuées :"
   ]
  },
  {
   "cell_type": "code",
   "execution_count": 54,
   "id": "ed5b0a92-f469-424c-bbb4-d2339f99ec34",
   "metadata": {},
   "outputs": [
    {
     "data": {
      "image/png": "[encoded data removed]",
      "text/plain": [
       "<Figure size 640x480 with 1 Axes>"
      ]
     },
     "metadata": {},
     "output_type": "display_data"
    }
   ],
   "source": [
    "movie_ratings = ratings.merge(users, on=\"user_id\")\n",
    "sns.boxplot(x=\"gender\", y=\"rating\", data=movie_ratings)\n",
    "plt.title(\"Distribution des notes par genre d'utilisateur\")\n",
    "plt.xlabel(\"Genre\")\n",
    "plt.ylabel(\"Note\")\n",
    "plt.show()"
   ]
  },
  {
   "cell_type": "markdown",
   "id": "c8e378e0-32cc-46fb-b095-ef03b90c4b1f",
   "metadata": {},
   "source": [
    "### Contexte\n",
    "Ce graphique compare la répartition des notes données par les hommes (\"M\") et les femmes (\"F\"). Cela aide à identifier d’éventuelles différences dans les comportements d’évaluation.\n",
    "\n",
    "### Observation\n",
    "- La distribution des notes est similaire pour les deux genres, avec une médiane autour de 4.\n",
    "- Les femmes semblent attribuer légèrement plus souvent des notes élevées.\n",
    "\n",
    "### Conclusion\n",
    "- Les différences entre genres ne sont pas significatives dans ce dataset.\n",
    "- Cependant, il peut être intéressant d’explorer des différences sur des genres ou des catégories spécifiques de films.\n"
   ]
  },
  {
   "cell_type": "markdown",
   "id": "a9e300a6-8cde-4cb5-99bc-aecc6f1ab193",
   "metadata": {},
   "source": [
    "# Préparer les données pour une base relationnelle"
   ]
  },
  {
   "cell_type": "code",
   "execution_count": 56,
   "id": "b342c254-a3b7-4325-adf2-6b701ced1580",
   "metadata": {},
   "outputs": [
    {
     "name": "stdout",
     "output_type": "stream",
     "text": [
      "   user_id  item_id  rating            timestamp\n",
      "0      196      242       3  1997-12-04 15:55:49\n",
      "1      186      302       3  1998-04-04 19:22:22\n",
      "2       22      377       1  1997-11-07 07:18:36\n",
      "3      244       51       2  1997-11-27 05:02:03\n",
      "4      166      346       1  1998-02-02 05:33:16\n",
      "   movie_id        movie_title release_date  \\\n",
      "0         1   Toy Story (1995)  01-Jan-1995   \n",
      "1         2   GoldenEye (1995)  01-Jan-1995   \n",
      "2         3  Four Rooms (1995)  01-Jan-1995   \n",
      "3         4  Get Shorty (1995)  01-Jan-1995   \n",
      "4         5     Copycat (1995)  01-Jan-1995   \n",
      "\n",
      "                                            imdb_url  unknown  Action  \\\n",
      "0  http://us.imdb.com/M/title-exact?Toy%20Story%2...        0       0   \n",
      "1  http://us.imdb.com/M/title-exact?GoldenEye%20(...        0       1   \n",
      "2  http://us.imdb.com/M/title-exact?Four%20Rooms%...        0       0   \n",
      "3  http://us.imdb.com/M/title-exact?Get%20Shorty%...        0       1   \n",
      "4  http://us.imdb.com/M/title-exact?Copycat%20(1995)        0       0   \n",
      "\n",
      "   Adventure  Animation  Children's  Comedy  ...  Film-Noir  Horror  Musical  \\\n",
      "0          0          1           1       1  ...          0       0        0   \n",
      "1          1          0           0       0  ...          0       0        0   \n",
      "2          0          0           0       0  ...          0       0        0   \n",
      "3          0          0           0       1  ...          0       0        0   \n",
      "4          0          0           0       0  ...          0       0        0   \n",
      "\n",
      "   Mystery  Romance  Sci-Fi  Thriller  War  Western  release_year  \n",
      "0        0        0       0         0    0        0        1995.0  \n",
      "1        0        0       0         1    0        0        1995.0  \n",
      "2        0        0       0         1    0        0        1995.0  \n",
      "3        0        0       0         0    0        0        1995.0  \n",
      "4        0        0       0         1    0        0        1995.0  \n",
      "\n",
      "[5 rows x 24 columns]\n",
      "   user_id  age gender  occupation zip_code\n",
      "0        1   24      M  technician    85711\n",
      "1        2   53      F       other    94043\n",
      "2        3   23      M      writer    32067\n",
      "3        4   24      M  technician    43537\n",
      "4        5   33      F       other    15213\n",
      "   user_id gender  num_ratings\n",
      "0        1      M          271\n",
      "1        2      F           62\n",
      "2        3      M           54\n",
      "3        4      M           24\n",
      "4        5      F          174\n"
     ]
    }
   ],
   "source": [
    "import sqlite3\n",
    "\n",
    "conn = sqlite3.connect(\"../data/movielens.db\")  # Crée un fichier pour la base\n",
    "cursor = conn.cursor()  # Initialise le curseur pour exécuter des requêtes\n",
    "\n",
    "cursor.execute(\"\"\"\n",
    "CREATE TABLE IF NOT EXISTS ratings (\n",
    "    user_id INTEGER,\n",
    "    item_id INTEGER,\n",
    "    rating INTEGER,\n",
    "    timestamp TEXT\n",
    ");\n",
    "\"\"\")\n",
    "\n",
    "cursor.execute(\"\"\"\n",
    "CREATE TABLE IF NOT EXISTS movies (\n",
    "    movie_id INTEGER PRIMARY KEY,\n",
    "    movie_title TEXT,\n",
    "    release_date TEXT,\n",
    "    imdb_url TEXT,\n",
    "    release_year INTEGER,\n",
    "    Action INTEGER,\n",
    "    Adventure INTEGER,\n",
    "    Animation INTEGER,\n",
    "    Children INTEGER,\n",
    "    Comedy INTEGER,\n",
    "    Crime INTEGER,\n",
    "    Documentary INTEGER,\n",
    "    Drama INTEGER,\n",
    "    Fantasy INTEGER,\n",
    "    FilmNoir INTEGER,\n",
    "    Horror INTEGER,\n",
    "    Musical INTEGER,\n",
    "    Mystery INTEGER,\n",
    "    Romance INTEGER,\n",
    "    SciFi INTEGER,\n",
    "    Thriller INTEGER,\n",
    "    War INTEGER,\n",
    "    Western INTEGER\n",
    ");\n",
    "\"\"\")\n",
    "\n",
    "cursor.execute(\"\"\"\n",
    "CREATE TABLE IF NOT EXISTS users (\n",
    "    user_id INTEGER PRIMARY KEY,\n",
    "    age INTEGER,\n",
    "    gender TEXT,\n",
    "    occupation TEXT,\n",
    "    zip_code TEXT\n",
    ");\n",
    "\"\"\")\n",
    "conn.commit()\n",
    "\n",
    "# Insérer les données\n",
    "ratings.to_sql(\"ratings\", conn, if_exists=\"replace\", index=False)\n",
    "movies.to_sql(\"movies\", conn, if_exists=\"replace\", index=False)\n",
    "users.to_sql(\"users\", conn, if_exists=\"replace\", index=False)\n",
    "\n",
    "# Valider les données\n",
    "print(pd.read_sql(\"SELECT * FROM ratings LIMIT 5;\", conn))\n",
    "print(pd.read_sql(\"SELECT * FROM movies LIMIT 5;\", conn))\n",
    "print(pd.read_sql(\"SELECT * FROM users LIMIT 5;\", conn))\n",
    "\n",
    "query = \"\"\"\n",
    "SELECT u.user_id, u.gender, COUNT(r.rating) as num_ratings\n",
    "FROM users u\n",
    "JOIN ratings r ON u.user_id = r.user_id\n",
    "GROUP BY u.user_id\n",
    "LIMIT 5;\n",
    "\"\"\"\n",
    "print(pd.read_sql(query, conn))\n",
    "\n",
    "# Fermer la connexion\n",
    "conn.close()"
   ]
  },
  {
   "cell_type": "markdown",
   "id": "7f321634-d5ca-4342-9c75-2efec7bcfa3d",
   "metadata": {},
   "source": [
    "# Documenter et sauvegarder"
   ]
  },
  {
   "cell_type": "code",
   "execution_count": 57,
   "id": "db51094c-c654-420e-95b6-8b6f55bc54ee",
   "metadata": {},
   "outputs": [],
   "source": [
    "ratings.to_csv(\"../data/cleaned_ratings.csv\", index=False)\n",
    "movies.to_csv(\"../data/cleaned_movies.csv\", index=False)\n",
    "users.to_csv(\"../data/cleaned_users.csv\", index=False)"
   ]
  },
  {
   "cell_type": "markdown",
   "id": "98e87a92-b771-4890-a0b6-a35b2def283b",
   "metadata": {},
   "source": [
    "Fichiers sauvegardés :\n",
    "- cleaned_ratings.csv : 99,987 évaluations (user_id, item_id, rating, timestamp).\n",
    "- cleaned_movies.csv : 1,679 films avec métadonnées (genres, release_year, etc.).\n",
    "- cleaned_users.csv : 943 utilisateurs avec informations démographiques.\n"
   ]
  }
 ],
 "metadata": {
  "kernelspec": {
   "display_name": "Python 3 (ipykernel)",
   "language": "python",
   "name": "python3"
  },
  "language_info": {
   "codemirror_mode": {
    "name": "ipython",
    "version": 3
   },
   "file_extension": ".py",
   "mimetype": "text/x-python",
   "name": "python",
   "nbconvert_exporter": "python",
   "pygments_lexer": "ipython3",
   "version": "3.12.7"
  }
 },
 "nbformat": 4,
 "nbformat_minor": 5
}
