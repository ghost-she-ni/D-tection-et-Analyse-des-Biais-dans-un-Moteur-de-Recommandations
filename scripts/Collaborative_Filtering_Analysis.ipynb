{
 "cells": [
  {
   "cell_type": "markdown",
   "id": "34e2c281",
   "metadata": {},
   "source": [
    "# Collaborative Filtering Analysis"
   ]
  },
  {
   "cell_type": "markdown",
   "id": "1aae7ebd",
   "metadata": {},
   "source": [
    "\n",
    "This notebook contains the implementation and analysis of user-based and item-based collaborative filtering for movie recommendations.\n"
   ]
  },
  {
   "cell_type": "code",
   "execution_count": 24,
   "id": "6e7f9b68",
   "metadata": {},
   "outputs": [],
   "source": [
    "\n",
    "import pandas as pd\n",
    "from sklearn.metrics.pairwise import cosine_similarity\n",
    "from sklearn.metrics import mean_squared_error, precision_recall_fscore_support\n",
    "from math import sqrt\n"
   ]
  },
  {
   "cell_type": "markdown",
   "id": "95730ab1",
   "metadata": {},
   "source": [
    "## Load and Inspect Data"
   ]
  },
  {
   "cell_type": "code",
   "execution_count": 25,
   "id": "6e5b00d5",
   "metadata": {},
   "outputs": [
    {
     "data": {
      "text/plain": [
       "(   user_id  item_id  rating            timestamp\n",
       " 0      196      242       3  1997-12-04 15:55:49\n",
       " 1      186      302       3  1998-04-04 19:22:22\n",
       " 2       22      377       1  1997-11-07 07:18:36\n",
       " 3      244       51       2  1997-11-27 05:02:03\n",
       " 4      166      346       1  1998-02-02 05:33:16,\n",
       "    user_id  age gender  occupation zip_code\n",
       " 0        1   24      M  technician    85711\n",
       " 1        2   53      F       other    94043\n",
       " 2        3   23      M      writer    32067\n",
       " 3        4   24      M  technician    43537\n",
       " 4        5   33      F       other    15213,\n",
       "    movie_id        movie_title release_date  \\\n",
       " 0         1   Toy Story (1995)  01-Jan-1995   \n",
       " 1         2   GoldenEye (1995)  01-Jan-1995   \n",
       " 2         3  Four Rooms (1995)  01-Jan-1995   \n",
       " 3         4  Get Shorty (1995)  01-Jan-1995   \n",
       " 4         5     Copycat (1995)  01-Jan-1995   \n",
       " \n",
       "                                             imdb_url  unknown  Action  \\\n",
       " 0  http://us.imdb.com/M/title-exact?Toy%20Story%2...        0       0   \n",
       " 1  http://us.imdb.com/M/title-exact?GoldenEye%20(...        0       1   \n",
       " 2  http://us.imdb.com/M/title-exact?Four%20Rooms%...        0       0   \n",
       " 3  http://us.imdb.com/M/title-exact?Get%20Shorty%...        0       1   \n",
       " 4  http://us.imdb.com/M/title-exact?Copycat%20(1995)        0       0   \n",
       " \n",
       "    Adventure  Animation  Children's  Comedy  ...  Film-Noir  Horror  Musical  \\\n",
       " 0          0          1           1       1  ...          0       0        0   \n",
       " 1          1          0           0       0  ...          0       0        0   \n",
       " 2          0          0           0       0  ...          0       0        0   \n",
       " 3          0          0           0       1  ...          0       0        0   \n",
       " 4          0          0           0       0  ...          0       0        0   \n",
       " \n",
       "    Mystery  Romance  Sci-Fi  Thriller  War  Western  release_year  \n",
       " 0        0        0       0         0    0        0        1995.0  \n",
       " 1        0        0       0         1    0        0        1995.0  \n",
       " 2        0        0       0         1    0        0        1995.0  \n",
       " 3        0        0       0         0    0        0        1995.0  \n",
       " 4        0        0       0         1    0        0        1995.0  \n",
       " \n",
       " [5 rows x 24 columns])"
      ]
     },
     "execution_count": 25,
     "metadata": {},
     "output_type": "execute_result"
    }
   ],
   "source": [
    "\n",
    "# Load datasets\n",
    "ratings = pd.read_csv('../data/cleaned_ratings.csv')\n",
    "users = pd.read_csv('../data/cleaned_users.csv')\n",
    "movies = pd.read_csv('../data/cleaned_movies.csv')\n",
    "\n",
    "# Display dataset information\n",
    "ratings.head(), users.head(), movies.head()\n"
   ]
  },
  {
   "cell_type": "markdown",
   "id": "2181b734",
   "metadata": {},
   "source": [
    "## User-Based Collaborative Filtering"
   ]
  },
  {
   "cell_type": "code",
   "execution_count": 38,
   "id": "fc6d03ca",
   "metadata": {},
   "outputs": [
    {
     "data": {
      "text/plain": [
       "3.1998799373359197"
      ]
     },
     "execution_count": 38,
     "metadata": {},
     "output_type": "execute_result"
    }
   ],
   "source": [
    "\n",
    "# Create user-movie matrix\n",
    "user_movie_matrix = ratings.pivot(index='user_id', columns='item_id', values='rating').fillna(0)\n",
    "\n",
    "# Calculate cosine similarity between users\n",
    "user_similarity = cosine_similarity(user_movie_matrix)\n",
    "user_similarity_df = pd.DataFrame(user_similarity, index=user_movie_matrix.index, columns=user_movie_matrix.index)\n",
    "\n",
    "# Predict ratings function for user-based filtering\n",
    "def predict_user_rating(user_id, movie_id, user_movie_matrix, user_similarity_df, k=5):\n",
    "    if movie_id not in user_movie_matrix.columns:\n",
    "        return None\n",
    "    user_similarities = user_similarity_df.loc[user_id]\n",
    "    similar_users = user_similarities[user_movie_matrix[movie_id].notna()].nlargest(k+1).iloc[1:]\n",
    "    similar_users_ratings = user_movie_matrix.loc[similar_users.index, movie_id]\n",
    "    weighted_sum = (similar_users_ratings * similar_users).sum()\n",
    "    similarity_sum = similar_users.sum()\n",
    "    return weighted_sum / similarity_sum if similarity_sum != 0 else None\n",
    "\n",
    "# Example: Predict a rating\n",
    "predict_user_rating(1, 2, user_movie_matrix, user_similarity_df)\n"
   ]
  },
  {
   "cell_type": "markdown",
   "id": "66920545-a577-46f1-a431-d1152793ea6e",
   "metadata": {},
   "source": [
    "La note prédite pour l'utilisateur 1 pour le film 2 est d'environ 3.20. Cela a été calculé en utilisant la moyenne pondérée des notes des utilisateurs les plus similaires (basée sur la similarité cosinus)"
   ]
  },
  {
   "cell_type": "markdown",
   "id": "5bc3c025",
   "metadata": {},
   "source": [
    "## Item-Based Collaborative Filtering"
   ]
  },
  {
   "cell_type": "code",
   "execution_count": 39,
   "id": "2989d42f",
   "metadata": {},
   "outputs": [
    {
     "data": {
      "text/plain": [
       "1.9375113053433601"
      ]
     },
     "execution_count": 39,
     "metadata": {},
     "output_type": "execute_result"
    }
   ],
   "source": [
    "\n",
    "# Create item-movie matrix (transpose of user-movie matrix)\n",
    "item_movie_matrix = user_movie_matrix.T\n",
    "\n",
    "# Calculate cosine similarity between items (movies)\n",
    "item_similarity = cosine_similarity(item_movie_matrix)\n",
    "item_similarity_df = pd.DataFrame(item_similarity, index=item_movie_matrix.index, columns=item_movie_matrix.index)\n",
    "\n",
    "# Predict ratings function for item-based filtering\n",
    "def predict_item_rating(user_id, movie_id, user_movie_matrix, item_similarity_df, k=5):\n",
    "    if movie_id not in user_movie_matrix.columns:\n",
    "        return None\n",
    "    user_ratings = user_movie_matrix.loc[user_id]\n",
    "    movie_similarities = item_similarity_df[movie_id]\n",
    "    rated_movies = user_ratings[user_ratings.notna()].index\n",
    "    similar_movies = movie_similarities[rated_movies].nlargest(k)\n",
    "    weighted_sum = (user_ratings[similar_movies.index] * similar_movies).sum()\n",
    "    similarity_sum = similar_movies.sum()\n",
    "    return weighted_sum / similarity_sum if similarity_sum != 0 else None\n",
    "\n",
    "# Example: Predict a rating\n",
    "predict_item_rating(1, 2, user_movie_matrix, item_similarity_df)\n"
   ]
  },
  {
   "cell_type": "markdown",
   "id": "02ed57aa-ecdc-4bf7-8475-32062b015126",
   "metadata": {},
   "source": [
    "La note prédite pour l'utilisateur 1 pour le film 2 en utilisant le filtrage collaboratif basé sur les items (films) est d'environ 1.94."
   ]
  },
  {
   "cell_type": "markdown",
   "id": "67517ecc",
   "metadata": {},
   "source": [
    "## Evaluation of Collaborative Filtering Models"
   ]
  },
  {
   "cell_type": "code",
   "execution_count": 28,
   "id": "6785d38e",
   "metadata": {},
   "outputs": [
    {
     "data": {
      "text/plain": [
       "2.0268093184405904"
      ]
     },
     "execution_count": 28,
     "metadata": {},
     "output_type": "execute_result"
    }
   ],
   "source": [
    "\n",
    "# Split the data for evaluation\n",
    "train_data = ratings.sample(frac=0.8, random_state=42)\n",
    "test_data = ratings.drop(train_data.index)\n",
    "\n",
    "# Predict ratings and evaluate with RMSE for user-based filtering\n",
    "test_data['predicted_user_rating'] = test_data.apply(\n",
    "    lambda row: predict_user_rating(row['user_id'], row['item_id'], user_movie_matrix, user_similarity_df) or 0, axis=1\n",
    ")\n",
    "rmse_user = sqrt(mean_squared_error(test_data['rating'], test_data['predicted_user_rating']))\n",
    "rmse_user\n"
   ]
  },
  {
   "cell_type": "code",
   "execution_count": 29,
   "id": "18128c60",
   "metadata": {},
   "outputs": [
    {
     "data": {
      "text/plain": [
       "1.2241869648288641"
      ]
     },
     "execution_count": 29,
     "metadata": {},
     "output_type": "execute_result"
    }
   ],
   "source": [
    "\n",
    "# Predict ratings and evaluate with RMSE for item-based filtering\n",
    "test_data['predicted_item_rating'] = test_data.apply(\n",
    "    lambda row: predict_item_rating(row['user_id'], row['item_id'], user_movie_matrix, item_similarity_df) or 0, axis=1\n",
    ")\n",
    "rmse_item = sqrt(mean_squared_error(test_data['rating'], test_data['predicted_item_rating']))\n",
    "rmse_item\n"
   ]
  },
  {
   "cell_type": "markdown",
   "id": "323f19f0",
   "metadata": {},
   "source": [
    "## Recommendations with Fallback"
   ]
  },
  {
   "cell_type": "code",
   "execution_count": 30,
   "id": "c6ed6857",
   "metadata": {},
   "outputs": [
    {
     "data": {
      "text/html": [
       "<div>\n",
       "<style scoped>\n",
       "    .dataframe tbody tr th:only-of-type {\n",
       "        vertical-align: middle;\n",
       "    }\n",
       "\n",
       "    .dataframe tbody tr th {\n",
       "        vertical-align: top;\n",
       "    }\n",
       "\n",
       "    .dataframe thead th {\n",
       "        text-align: right;\n",
       "    }\n",
       "</style>\n",
       "<table border=\"1\" class=\"dataframe\">\n",
       "  <thead>\n",
       "    <tr style=\"text-align: right;\">\n",
       "      <th></th>\n",
       "      <th>movie_title</th>\n",
       "    </tr>\n",
       "  </thead>\n",
       "  <tbody>\n",
       "    <tr>\n",
       "      <th>0</th>\n",
       "      <td>Toy Story (1995)</td>\n",
       "    </tr>\n",
       "    <tr>\n",
       "      <th>49</th>\n",
       "      <td>Star Wars (1977)</td>\n",
       "    </tr>\n",
       "    <tr>\n",
       "      <th>97</th>\n",
       "      <td>Silence of the Lambs, The (1991)</td>\n",
       "    </tr>\n",
       "    <tr>\n",
       "      <th>99</th>\n",
       "      <td>Fargo (1996)</td>\n",
       "    </tr>\n",
       "    <tr>\n",
       "      <th>126</th>\n",
       "      <td>Godfather, The (1972)</td>\n",
       "    </tr>\n",
       "    <tr>\n",
       "      <th>173</th>\n",
       "      <td>Raiders of the Lost Ark (1981)</td>\n",
       "    </tr>\n",
       "    <tr>\n",
       "      <th>180</th>\n",
       "      <td>Return of the Jedi (1983)</td>\n",
       "    </tr>\n",
       "    <tr>\n",
       "      <th>257</th>\n",
       "      <td>Contact (1997)</td>\n",
       "    </tr>\n",
       "    <tr>\n",
       "      <th>284</th>\n",
       "      <td>English Patient, The (1996)</td>\n",
       "    </tr>\n",
       "    <tr>\n",
       "      <th>286</th>\n",
       "      <td>Scream (1996)</td>\n",
       "    </tr>\n",
       "  </tbody>\n",
       "</table>\n",
       "</div>"
      ],
      "text/plain": [
       "                          movie_title\n",
       "0                    Toy Story (1995)\n",
       "49                   Star Wars (1977)\n",
       "97   Silence of the Lambs, The (1991)\n",
       "99                       Fargo (1996)\n",
       "126             Godfather, The (1972)\n",
       "173    Raiders of the Lost Ark (1981)\n",
       "180         Return of the Jedi (1983)\n",
       "257                    Contact (1997)\n",
       "284       English Patient, The (1996)\n",
       "286                     Scream (1996)"
      ]
     },
     "execution_count": 30,
     "metadata": {},
     "output_type": "execute_result"
    }
   ],
   "source": [
    "\n",
    "# Recommend movies with fallback to popular movies if no predictions are available\n",
    "def recommend_movies_with_fallback(user_id, user_movie_matrix, item_similarity_df, movies_df, top_n=10, k=5):\n",
    "    unrated_movies = user_movie_matrix.loc[user_id][user_movie_matrix.loc[user_id].isna()].index\n",
    "    predicted_ratings = {movie_id: predict_item_rating(user_id, movie_id, user_movie_matrix, item_similarity_df, k=k)\n",
    "                         for movie_id in unrated_movies}\n",
    "    predicted_ratings = {movie_id: rating for movie_id, rating in predicted_ratings.items() if rating is not None}\n",
    "    if not predicted_ratings:\n",
    "        popular_movies = user_movie_matrix.sum(axis=0).nlargest(top_n).index\n",
    "        return movies_df[movies_df['movie_id'].isin(popular_movies)][['movie_title']]\n",
    "    sorted_movies = sorted(predicted_ratings.items(), key=lambda x: x[1], reverse=True)[:top_n]\n",
    "    recommended_df = pd.DataFrame(sorted_movies, columns=['movie_id', 'Predicted_Rating'])\n",
    "    return recommended_df.merge(movies_df[['movie_id', 'movie_title']], on='movie_id')[['movie_title', 'Predicted_Rating']]\n",
    "\n",
    "# Example: Generate recommendations for user 1\n",
    "recommend_movies_with_fallback(1, user_movie_matrix, item_similarity_df, movies)\n"
   ]
  },
  {
   "cell_type": "code",
   "execution_count": null,
   "id": "cd2bb821-e7f7-43a3-b98d-7ce2bd8c42b8",
   "metadata": {},
   "outputs": [],
   "source": []
  }
 ],
 "metadata": {
  "kernelspec": {
   "display_name": "Python 3 (ipykernel)",
   "language": "python",
   "name": "python3"
  },
  "language_info": {
   "codemirror_mode": {
    "name": "ipython",
    "version": 3
   },
   "file_extension": ".py",
   "mimetype": "text/x-python",
   "name": "python",
   "nbconvert_exporter": "python",
   "pygments_lexer": "ipython3",
   "version": "3.12.2"
  }
 },
 "nbformat": 4,
 "nbformat_minor": 5
}
