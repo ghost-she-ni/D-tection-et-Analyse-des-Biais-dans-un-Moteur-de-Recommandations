{
 "cells": [
  {
   "cell_type": "code",
   "execution_count": 1,
   "id": "2cf7683f-5ec0-4869-8a18-26a02931b5fa",
   "metadata": {},
   "outputs": [],
   "source": [
    "import pandas as pd\n",
    "from sklearn.feature_extraction.text import TfidfVectorizer\n",
    "from sklearn.metrics.pairwise import cosine_similarity"
   ]
  },
  {
   "cell_type": "code",
   "execution_count": 2,
   "id": "50965945-84d8-4f11-967c-b8b77997c82c",
   "metadata": {},
   "outputs": [
    {
     "name": "stdout",
     "output_type": "stream",
     "text": [
      "Index(['movie_id', 'movie_title', 'release_date', 'imdb_url', 'unknown',\n",
      "       'Action', 'Adventure', 'Animation', 'Children's', 'Comedy', 'Crime',\n",
      "       'Documentary', 'Drama', 'Fantasy', 'Film-Noir', 'Horror', 'Musical',\n",
      "       'Mystery', 'Romance', 'Sci-Fi', 'Thriller', 'War', 'Western',\n",
      "       'release_year'],\n",
      "      dtype='object')\n",
      "   movie_id        movie_title release_date  \\\n",
      "0         1   Toy Story (1995)  01-Jan-1995   \n",
      "1         2   GoldenEye (1995)  01-Jan-1995   \n",
      "2         3  Four Rooms (1995)  01-Jan-1995   \n",
      "3         4  Get Shorty (1995)  01-Jan-1995   \n",
      "4         5     Copycat (1995)  01-Jan-1995   \n",
      "\n",
      "                                            imdb_url  unknown  Action  \\\n",
      "0  http://us.imdb.com/M/title-exact?Toy%20Story%2...        0       0   \n",
      "1  http://us.imdb.com/M/title-exact?GoldenEye%20(...        0       1   \n",
      "2  http://us.imdb.com/M/title-exact?Four%20Rooms%...        0       0   \n",
      "3  http://us.imdb.com/M/title-exact?Get%20Shorty%...        0       1   \n",
      "4  http://us.imdb.com/M/title-exact?Copycat%20(1995)        0       0   \n",
      "\n",
      "   Adventure  Animation  Children's  Comedy  ...  Film-Noir  Horror  Musical  \\\n",
      "0          0          1           1       1  ...          0       0        0   \n",
      "1          1          0           0       0  ...          0       0        0   \n",
      "2          0          0           0       0  ...          0       0        0   \n",
      "3          0          0           0       1  ...          0       0        0   \n",
      "4          0          0           0       0  ...          0       0        0   \n",
      "\n",
      "   Mystery  Romance  Sci-Fi  Thriller  War  Western  release_year  \n",
      "0        0        0       0         0    0        0        1995.0  \n",
      "1        0        0       0         1    0        0        1995.0  \n",
      "2        0        0       0         1    0        0        1995.0  \n",
      "3        0        0       0         0    0        0        1995.0  \n",
      "4        0        0       0         1    0        0        1995.0  \n",
      "\n",
      "[5 rows x 24 columns]\n"
     ]
    }
   ],
   "source": [
    "# Charger les données\n",
    "movies = pd.read_csv(\"../data/cleaned_movies.csv\")\n",
    "ratings = pd.read_csv(\"../data/cleaned_ratings.csv\")\n",
    "users = pd.read_csv(\"../data/cleaned_users.csv\")\n",
    "\n",
    "# Vérifier les colonnes disponibles\n",
    "print(movies.columns)\n",
    "print(movies.head())"
   ]
  },
  {
   "cell_type": "markdown",
   "id": "6d899716-974e-44e2-a456-21f34153629f",
   "metadata": {},
   "source": [
    "## Préparer un corpus textuel"
   ]
  },
  {
   "cell_type": "markdown",
   "id": "dd6c9be3-f60c-4967-8ab7-3f7919103636",
   "metadata": {},
   "source": [
    "1. Combine les titres et genres pour former une description textuelle de chaque film"
   ]
  },
  {
   "cell_type": "code",
   "execution_count": 3,
   "id": "2d03770b-bee5-4d10-984e-567795c4fe17",
   "metadata": {},
   "outputs": [
    {
     "name": "stdout",
     "output_type": "stream",
     "text": [
      "   movie_id                                        corpus\n",
      "0         1  Toy Story (1995) Animation Children's Comedy\n",
      "1         2    GoldenEye (1995) Action Adventure Thriller\n",
      "2         3                    Four Rooms (1995) Thriller\n",
      "3         4         Get Shorty (1995) Action Comedy Drama\n",
      "4         5           Copycat (1995) Crime Drama Thriller\n"
     ]
    }
   ],
   "source": [
    "# Préparer le corpus textuel en utilisant les titres et les genres\n",
    "# Convertir les genres binaires en mots-clés pour enrichir le signal sémantique\n",
    "genre_columns = [col for col in movies.columns if col not in [\"movie_id\", \"movie_title\", \"release_date\", \"imdb_url\", \"release_year\"]]\n",
    "def genres_to_keywords(row):\n",
    "    keywords = []\n",
    "    for genre in genre_columns:\n",
    "        if row[genre] == 1:\n",
    "            keywords.append(genre)\n",
    "    return \" \".join(keywords)\n",
    "\n",
    "movies[\"genres\"] = movies.apply(genres_to_keywords, axis=1)\n",
    "movies[\"corpus\"] = movies[\"movie_title\"] + \" \" + movies[\"genres\"]\n",
    "print(movies[[\"movie_id\", \"corpus\"]].head())"
   ]
  },
  {
   "cell_type": "markdown",
   "id": "ae53d2c6-dde9-4df5-ade1-17d88ff9577b",
   "metadata": {},
   "source": [
    "2. Applique TF-IDF pour transformer les descriptions textuelles en vecteurs"
   ]
  },
  {
   "cell_type": "code",
   "execution_count": 4,
   "id": "73056dfe-c42d-4b21-ba5c-b95bbed8f805",
   "metadata": {},
   "outputs": [
    {
     "name": "stdout",
     "output_type": "stream",
     "text": [
      "TF-IDF Matrix Shape: (1679, 46)\n"
     ]
    }
   ],
   "source": [
    "vectorizer = TfidfVectorizer(stop_words=\"english\", ngram_range=(1, 2), max_df=0.8, min_df=0.02)\n",
    "movie_features = vectorizer.fit_transform(movies[\"corpus\"])\n",
    "print(\"TF-IDF Matrix Shape:\", movie_features.shape)"
   ]
  },
  {
   "cell_type": "markdown",
   "id": "ce182746-315c-422e-96eb-b7f8fb730db3",
   "metadata": {},
   "source": [
    "**TF-IDF (Term Frequency-Inverse Document Frequency)** : Une mesure de l'importance d'un mot dans un document et dans l'ensemble des documents."
   ]
  },
  {
   "cell_type": "markdown",
   "id": "0fc90b8f-eb10-425f-818a-76db1bde7c0c",
   "metadata": {},
   "source": [
    "- Ce code prépare les données pour un système de recommandations basé sur le contenu :\n",
    "  - Le corpus combine le titre et les genres pour représenter chaque film comme un document textuel.\n",
    "  - La transformation TF-IDF encode ces documents dans une matrice sparse, prête pour des calculs de similarité."
   ]
  },
  {
   "cell_type": "code",
   "execution_count": 5,
   "id": "7ee54dd0-ec61-4335-92c6-35e9c16eec23",
   "metadata": {},
   "outputs": [
    {
     "name": "stdout",
     "output_type": "stream",
     "text": [
      "Movie Similarity Matrix:\n",
      "movie_id      1         2         3         4         5         6     \\\n",
      "movie_id                                                               \n",
      "1         1.000000  0.104347  0.225830  0.190048  0.104797  0.177986   \n",
      "2         0.104347  1.000000  0.462061  0.547814  0.214420  0.171466   \n",
      "3         0.225830  0.462061  1.000000  0.240423  0.464052  0.371090   \n",
      "4         0.190048  0.547814  0.240423  1.000000  0.162167  0.275423   \n",
      "5         0.104797  0.214420  0.464052  0.162167  1.000000  0.250302   \n",
      "\n",
      "movie_id      7         8         9         10    ...      1673      1674  \\\n",
      "movie_id                                          ...                       \n",
      "1         0.108361  0.697607  0.177986  0.138093  ...  0.133747  0.000000   \n",
      "2         0.104392  0.106372  0.171466  0.133034  ...  0.780185  0.000000   \n",
      "3         0.225926  0.230213  0.371090  0.287915  ...  0.592245  0.000000   \n",
      "4         0.167683  0.495403  0.275423  0.213691  ...  0.702159  0.235958   \n",
      "5         0.152389  0.155280  0.250302  0.194201  ...  0.274832  0.214437   \n",
      "\n",
      "movie_id      1675      1676      1677      1678      1679      1680  \\\n",
      "movie_id                                                               \n",
      "1         0.000000  0.000000  0.177986  0.000000  0.000000  0.000000   \n",
      "2         0.000000  0.000000  0.171466  0.000000  0.161023  0.000000   \n",
      "3         0.000000  0.000000  0.371090  0.000000  0.348488  0.000000   \n",
      "4         0.086194  0.066795  0.275423  0.078961  0.000000  0.063749   \n",
      "5         0.078332  0.060703  0.250302  0.071759  0.161717  0.057935   \n",
      "\n",
      "movie_id      1681      1682  \n",
      "movie_id                      \n",
      "1         0.106188  0.000000  \n",
      "2         0.000000  0.000000  \n",
      "3         0.000000  0.000000  \n",
      "4         0.113050  0.235958  \n",
      "5         0.000000  0.214437  \n",
      "\n",
      "[5 rows x 1679 columns]\n"
     ]
    }
   ],
   "source": [
    "movie_similarity = cosine_similarity(movie_features)\n",
    "movie_similarity_df = pd.DataFrame(movie_similarity, index=movies[\"movie_id\"], columns=movies[\"movie_id\"])\n",
    "print(\"Movie Similarity Matrix:\")\n",
    "print(movie_similarity_df.head())\n",
    "\n",
    "movie_similarity_df.to_csv(\"../data/movie_similarity.csv\")"
   ]
  },
  {
   "cell_type": "markdown",
   "id": "3ff7a0c9-ffd3-441b-b7ed-c0df1bc14b45",
   "metadata": {},
   "source": [
    "## Identifier les films similaires"
   ]
  },
  {
   "cell_type": "code",
   "execution_count": 6,
   "id": "26c291f3-a2a2-456e-bd60-ca953b5e69ec",
   "metadata": {},
   "outputs": [],
   "source": [
    "def get_similar_movies(movie_id, movie_similarity_df, k=5):\n",
    "    if movie_id not in movie_similarity_df.index:\n",
    "        return []\n",
    "    movie_similarities = movie_similarity_df.loc[movie_id]\n",
    "    similar_movies = movie_similarities.sort_values(ascending=False)\n",
    "    similar_movies = similar_movies[similar_movies.index != movie_id]  # Exclure le film lui-même\n",
    "    return similar_movies.head(k).index.tolist()"
   ]
  },
  {
   "cell_type": "markdown",
   "id": "a51e1ee3-b4c5-41b2-a408-034cac7a0fa4",
   "metadata": {},
   "source": [
    "## Recommander des films similaires"
   ]
  },
  {
   "cell_type": "code",
   "execution_count": 7,
   "id": "aabbcc3a-3e53-4ab2-b592-7ed96e696f97",
   "metadata": {},
   "outputs": [],
   "source": [
    "def recommend_similar_movies(movie_id, movie_similarity_df, movies, k=5):\n",
    "    similar_movie_ids = get_similar_movies(movie_id, movie_similarity_df, k)\n",
    "    recommended_movies = movies[movies[\"movie_id\"].isin(similar_movie_ids)][\"movie_title\"]\n",
    "    return recommended_movies.tolist()"
   ]
  },
  {
   "cell_type": "markdown",
   "id": "8b4fbd91-3eab-4ad2-9e18-75c969757dc8",
   "metadata": {},
   "source": [
    "## Tester la fonction"
   ]
  },
  {
   "cell_type": "code",
   "execution_count": 8,
   "id": "a4edc459-0273-4bdc-a58f-2694c2f8df07",
   "metadata": {},
   "outputs": [
    {
     "name": "stdout",
     "output_type": "stream",
     "text": [
      "Films similaires à Toy Story (1995):\n",
      "['Aladdin and the King of Thieves (1996)', 'Space Jam (1996)', 'Big Green, The (1995)', 'Goofy Movie, A (1995)', 'Gumby: The Movie (1995)']\n"
     ]
    }
   ],
   "source": [
    "movie_id = 1\n",
    "recommendations = recommend_similar_movies(movie_id, movie_similarity_df, movies, k=5)\n",
    "print(f\"Films similaires à {movies[movies['movie_id'] == movie_id]['movie_title'].values[0]}:\")\n",
    "print(recommendations)"
   ]
  },
  {
   "cell_type": "code",
   "execution_count": 9,
   "id": "35119ffa-4721-4830-9a70-e8794ef43bdf",
   "metadata": {},
   "outputs": [],
   "source": [
    "from sklearn.model_selection import train_test_split\n",
    "train, test = train_test_split(ratings, test_size=0.2, random_state=42)\n",
    "\n",
    "# Créer une matrice utilisateur-film pour l'ensemble d'entraînement\n",
    "train_user_item_matrix = train.pivot_table(index=\"user_id\", columns=\"item_id\", values=\"rating\").fillna(0)\n",
    "test_user_item_matrix = test.pivot_table(index=\"user_id\", columns=\"item_id\", values=\"rating\").fillna(0)"
   ]
  },
  {
   "cell_type": "code",
   "execution_count": 10,
   "id": "a3f9a17e-6bdf-4a32-95c7-f45824576f60",
   "metadata": {},
   "outputs": [],
   "source": [
    "def calculate_metrics(y_true, y_pred):\n",
    "    from sklearn.metrics import precision_score, recall_score, f1_score\n",
    "    precision = precision_score(y_true, y_pred, average=\"weighted\", zero_division=1)\n",
    "    recall = recall_score(y_true, y_pred, average=\"weighted\", zero_division=1)\n",
    "    f1 = f1_score(y_true, y_pred, average=\"weighted\", zero_division=1)\n",
    "    return precision, recall, f1"
   ]
  },
  {
   "cell_type": "code",
   "execution_count": 11,
   "id": "1506e3f3-c1f8-4259-be18-a4600ccfdfd3",
   "metadata": {},
   "outputs": [],
   "source": [
    "def evaluate_content(user_id, k=5, threshold=3.5):\n",
    "    if user_id not in test_user_item_matrix.index:\n",
    "        return 0, 0, 0\n",
    "\n",
    "    actual_positive_movies = test_user_item_matrix.loc[user_id][test_user_item_matrix.loc[user_id] >= threshold].index\n",
    "    recommendations = set()\n",
    "\n",
    "    for movie_id in train_user_item_matrix.loc[user_id][train_user_item_matrix.loc[user_id] > 0].index:\n",
    "        recommendations.update(get_similar_movies(movie_id, movie_similarity_df, k))\n",
    "\n",
    "    y_true = [1 if movie in actual_positive_movies else 0 for movie in train_user_item_matrix.columns]\n",
    "    y_pred = [1 if movie in recommendations else 0 for movie in train_user_item_matrix.columns]\n",
    "\n",
    "    return calculate_metrics(y_true, y_pred)"
   ]
  },
  {
   "cell_type": "code",
   "execution_count": 12,
   "id": "46727619-be71-43e1-9afc-3e8c15b3485b",
   "metadata": {},
   "outputs": [
    {
     "name": "stdout",
     "output_type": "stream",
     "text": [
      "Métriques moyennes :\n",
      "User         5.500000\n",
      "Precision    0.980237\n",
      "Recall       0.819648\n",
      "F1           0.886276\n",
      "dtype: float64\n"
     ]
    }
   ],
   "source": [
    "content_metrics = []\n",
    "for user_id in test_user_item_matrix.index[:10]:\n",
    "    precision, recall, f1 = evaluate_content(user_id)\n",
    "    content_metrics.append({\"User\": user_id, \"Precision\": precision, \"Recall\": recall, \"F1\": f1})\n",
    "\n",
    "# Afficher les résultats\n",
    "content_results = pd.DataFrame(content_metrics)\n",
    "print(\"Métriques moyennes :\")\n",
    "print(content_results.mean())"
   ]
  },
  {
   "cell_type": "code",
   "execution_count": 13,
   "id": "70571386-cb44-429a-9faa-b51889ca95f1",
   "metadata": {},
   "outputs": [],
   "source": [
    "content_results.to_csv(\"../data/content_results.csv\", index=False)"
   ]
  }
 ],
 "metadata": {
  "kernelspec": {
   "display_name": "Python 3 (ipykernel)",
   "language": "python",
   "name": "python3"
  },
  "language_info": {
   "codemirror_mode": {
    "name": "ipython",
    "version": 3
   },
   "file_extension": ".py",
   "mimetype": "text/x-python",
   "name": "python",
   "nbconvert_exporter": "python",
   "pygments_lexer": "ipython3",
   "version": "3.12.7"
  }
 },
 "nbformat": 4,
 "nbformat_minor": 5
}
