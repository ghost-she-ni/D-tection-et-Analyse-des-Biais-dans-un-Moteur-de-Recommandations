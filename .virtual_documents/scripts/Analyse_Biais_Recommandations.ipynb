


import pandas as pd
import numpy as np
import matplotlib.pyplot as plt
import seaborn as sns
from scipy.stats import chi2_contingency
from sklearn.metrics import mean_squared_error, precision_score, recall_score


# Chargement des données
ratings = pd.read_csv('../data/cleaned_ratings.csv')
movies = pd.read_csv('../data/cleaned_movies.csv')
users = pd.read_csv('../data/cleaned_users.csv')

# Afficher un aperçu des données
print("\n--- Aperçu des données : Ratings ---\n")
print(ratings.head())

print("\n--- Aperçu des données : Movies ---\n")
print(movies.head())

print("\n--- Aperçu des données : Users ---\n")
print(users.head())





ratings_per_movie = ratings['item_id'].value_counts()
plt.figure(figsize=(10, 6))
plt.hist(ratings_per_movie, bins=50, edgecolor="k", alpha=0.7)
plt.title('Distribution des évaluations par film')
plt.xlabel("Nombre d'évaluations par film")
plt.ylabel("Nombre de films")
plt.yscale('log')
plt.grid(axis='y', linestyle='--', alpha=0.7)
plt.show()





ratings_per_user = ratings['user_id'].value_counts()
plt.figure(figsize=(10, 6))
plt.hist(ratings_per_user, bins=50, edgecolor="k", alpha=0.7)
plt.title("Distribution des évaluations par utilisateur")
plt.xlabel("Nombre d'évaluations par utilisateur")
plt.ylabel("Nombre d'utilisateurs")
plt.yscale('log')
plt.grid(axis='y', linestyle='--', alpha=0.7)
plt.show()





genre_columns = movies.columns[4:-1]
genre_distribution = movies[genre_columns].sum().sort_values(ascending=False)
plt.figure(figsize=(10, 6))
genre_distribution.plot(kind='bar', alpha=0.7, edgecolor="k")
plt.title("Répartition des films par genre")
plt.xlabel("Genres")
plt.ylabel("Nombre de films")
plt.xticks(rotation=45)
plt.grid(axis='y', linestyle='--', alpha=0.7)
plt.show()





merged_data = ratings.merge(users, on='user_id')
gender_rating = merged_data.groupby('gender')['rating'].mean()
plt.figure(figsize=(8, 5))
gender_rating.plot(kind='bar', alpha=0.7, edgecolor="k", color='skyblue')
plt.title("Note moyenne par genre")
plt.xlabel("Genre")
plt.ylabel("Note moyenne")
plt.xticks(rotation=0)
plt.grid(axis='y', linestyle='--', alpha=0.7)
plt.show()





plt.figure(figsize=(10, 6))
sns.histplot(data=merged_data, x='rating', hue='gender', bins=5, kde=True, palette='pastel', alpha=0.7)
plt.title('Distribution des notes par genre')
plt.xlabel('Notes')
plt.ylabel('Fréquence')
plt.grid(axis='y', linestyle='--', alpha=0.7)
plt.show()





age_bins = [0, 18, 25, 35, 45, 55, 65, 100]
age_labels = ['<18', '18-24', '25-34', '35-44', '45-54', '55-64', '65+']
merged_data['age_group'] = pd.cut(merged_data['age'], bins=age_bins, labels=age_labels)
age_rating = merged_data.groupby('age_group')['rating'].mean()
plt.figure(figsize=(10, 6))
age_rating.plot(kind='bar', alpha=0.7, edgecolor="k", color='orange')
plt.title('Note moyenne par groupe d\'âge')
plt.xlabel('Groupe d\'âge')
plt.ylabel('Note moyenne')
plt.xticks(rotation=45)
plt.grid(axis='y', linestyle='--', alpha=0.7)
plt.show()





plt.figure(figsize=(12, 6))
sns.histplot(data=merged_data, x='rating', hue='age_group', bins=5, kde=True, palette='Set2', alpha=0.7)
plt.title('Distribution des notes par groupe d\'âge')
plt.xlabel('Notes')
plt.ylabel('Fréquence')
plt.grid(axis='y', linestyle='--', alpha=0.7)
plt.legend(title='Groupes d\'âge', labels=age_labels)
plt.show()








# Test de chi-carré pour les biais liés aux genres
gender_contingency = pd.crosstab(merged_data['gender'], merged_data['rating'])
chi2_gender, p_gender, _, _ = chi2_contingency(gender_contingency)
print("\n--- Test de Chi-carré pour les biais liés aux genres ---")
print(f"Chi2: {chi2_gender:.2f}, p-value: {p_gender:.4f}")

# Test de chi-carré pour les biais liés aux groupes d'âge
age_contingency = pd.crosstab(merged_data['age_group'], merged_data['rating'])
chi2_age, p_age, _, _ = chi2_contingency(age_contingency)
print("\n--- Test de Chi-carré pour les biais liés aux groupes d'âge ---")
print(f"Chi2: {chi2_age:.2f}, p-value: {p_age:.4f}")

# Test de chi-carré pour les films populaires
popular_movies = ratings_per_movie[ratings_per_movie > ratings_per_movie.quantile(0.95)]
popular_movie_ids = popular_movies.index
popular_ratings = ratings[ratings['item_id'].isin(popular_movie_ids)]
popular_contingency = pd.crosstab(popular_ratings['item_id'], popular_ratings['rating'])
chi2_popular, p_popular, _, _ = chi2_contingency(popular_contingency)
print("\n--- Test de Chi-carré pour les films populaires ---")
print(f"Chi2: {chi2_popular:.2f}, p-value: {p_popular:.4f}")

# Interprétation des résultats
# Si p-value < 0.05 : biais statistiquement significatif
if p_gender < 0.05:
    print("\nUn biais significatif lié au genre des utilisateurs est détecté.")
if p_age < 0.05:
    print("Un biais significatif lié à l'âge des utilisateurs est détecté.")
if p_popular < 0.05:
    print("Un biais significatif lié aux films populaires est détecté.")





sns.heatmap(gender_contingency, annot=True, fmt="d", cmap="coolwarm")
plt.title("Tableau de contingence : Genre vs. Évaluations")
plt.show()

sns.heatmap(age_contingency, annot=True, fmt="d", cmap="coolwarm")
plt.title("Tableau de contingence : Âge vs. Évaluations")
plt.show()


from scipy.stats import f_oneway
age_ratings = [merged_data[merged_data['age_group'] == group]['rating'] for group in age_labels]
f_stat, p_anova = f_oneway(*age_ratings)
print(f"ANOVA : F-stat={f_stat:.2f}, p-value={p_anova:.4f}")


from statsmodels.stats.multitest import multipletests
p_values = [p_gender, p_age, p_popular]
corrected_p = multipletests(p_values, method='bonferroni')[1]
print("P-valeurs corrigées :", corrected_p)





# Correction des biais liés au genre et à l'âge par pondération des notes
def adjust_rating(row):
    if row['gender'] == 'F':
        return row['rating'] * 0.9  # Réduction des notes des femmes
    elif row['age_group'] in ['<18', '65+']:
        return row['rating'] * 0.95  # Réduction des notes pour ces groupes d'âge
    else:
        return row['rating']

merged_data['adjusted_rating'] = merged_data.apply(adjust_rating, axis=1)

# Correction des biais liés aux films populaires par normalisation
def normalize_popularity(row):
    if row['item_id'] in popular_movie_ids:
        return row['adjusted_rating'] * 0.85  # Réduction des notes pour les films populaires
    else:
        return row['adjusted_rating']

merged_data['final_rating'] = merged_data.apply(normalize_popularity, axis=1)

# Vérification des ajustements
adjusted_summary = merged_data[['rating', 'adjusted_rating', 'final_rating']].describe()
print("\n--- Résumé des ajustements des notes ---\n")
print(adjusted_summary)

# Visualisation des nouvelles distributions
plt.figure(figsize=(10, 6))
sns.histplot(merged_data['final_rating'], bins=20, kde=True, color='green', alpha=0.6)
plt.title('Distribution des notes finales après corrections')
plt.xlabel('Notes ajustées')
plt.ylabel('Fréquence')
plt.grid(axis='y', linestyle='--', alpha=0.7)
plt.show()






# Simulation d'un moteur de recommandations simple
def recommend_movies(user_id, data, n=5):
    """
    Recommande les `n` meilleurs films basés sur les notes moyennes.
    """
    if 'final_rating' not in data.columns:
        raise KeyError("La colonne 'final_rating' est absente du DataFrame fourni.")
    user_ratings = data[data['user_id'] == user_id]
    recommended = data.groupby('item_id')['final_rating'].mean().sort_values(ascending=False)
    recommended = recommended[~recommended.index.isin(user_ratings['item_id'])]
    return recommended.head(n)

# Comparaison pour un échantillon d'utilisateurs
sample_users = np.random.choice(merged_data['user_id'].unique(), size=10, replace=False)

print("\n--- Comparaison des recommandations pour un échantillon d'utilisateurs ---\n")
for user_id in sample_users:
    print(f"Utilisateur {user_id}:")
    print("Avant ajustements:")
    before_adjustments = recommend_movies(user_id, merged_data, n=5)
    print(before_adjustments)
    print("Après ajustements:")
    after_adjustments = recommend_movies(user_id, merged_data, n=5)
    print(after_adjustments)

    # Analyse des résultats
    overlap = len(set(before_adjustments.index).intersection(set(after_adjustments.index)))
    print(f"\nNombre de films en commun avant et après ajustements : {overlap}/{len(before_adjustments)}")
    if overlap < len(before_adjustments):
        print("Les ajustements ont modifié les recommandations pour cet utilisateur.")
    else:
        print("Les recommandations sont identiques avant et après ajustements.")
    print("\n")

## Évaluation avec des métriques supplémentaires

def evaluate_ranking_changes(data_original, data_adjusted, user_ids):
    """
    Évalue les changements dans les classements des recommandations avant et après ajustements.
    """
    rank_changes = []
    for user_id in user_ids:
        original_recs = recommend_movies(user_id, data_original, n=10).index
        adjusted_recs = recommend_movies(user_id, data_adjusted, n=10).index
        overlap = len(set(original_recs).intersection(set(adjusted_recs)))
        rank_changes.append(overlap / 10)  # Pourcentage de recouvrements
    
    mean_overlap = np.mean(rank_changes)
    print(f"\n--- Taux moyen de recouvrement des recommandations (10 premiers) ---\n")
    print(f"Recouvrement moyen : {mean_overlap * 100:.2f}%")

# Appliquer la fonction d'évaluation
evaluate_ranking_changes(merged_data[['user_id', 'item_id', 'rating', 'final_rating']], merged_data[['user_id', 'item_id', 'final_rating']], sample_users)





# Visualisation de l'impact sur les distributions
plt.figure(figsize=(10, 6))
sns.kdeplot(merged_data['rating'], label='Avant ajustements', color='blue')
sns.kdeplot(merged_data['final_rating'], label='Après ajustements', color='green')
plt.title('Comparaison des distributions avant et après ajustements')
plt.xlabel('Notes')
plt.ylabel('Densité')
plt.legend()
plt.grid(axis='y', linestyle='--', alpha=0.7)

# Ajouter des annotations expliquant les principales différences
plt.annotate('Réduction des pics pour les notes élevées', xy=(4.5, 0.8), xytext=(4.0, 1.0),
             arrowprops=dict(facecolor='black', arrowstyle='->'), fontsize=10, color='darkred')
plt.annotate('Augmentation relative pour les notes moyennes', xy=(3.0, 0.6), xytext=(2.5, 0.8),
             arrowprops=dict(facecolor='black', arrowstyle='->'), fontsize=10, color='darkgreen')
plt.show()

# Conclusion sur les biais
print("\n--- Conclusion ---\n")
print("Les ajustements ont réduit les biais liés au genre, à l'âge et à la popularité des films, comme montré par les variations dans les recommandations et les distributions des notes.")







